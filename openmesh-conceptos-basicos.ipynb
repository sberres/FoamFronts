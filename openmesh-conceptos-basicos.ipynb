{
 "cells": [
  {
   "cell_type": "code",
   "execution_count": null,
   "metadata": {},
   "outputs": [],
   "source": []
  },
  {
   "cell_type": "code",
   "execution_count": 15,
   "metadata": {},
   "outputs": [],
   "source": [
    "# código malla triangular\n",
    "import numpy as np\n",
    "import openmesh as om\n",
    "import matplotlib.pyplot as plt"
   ]
  },
  {
   "cell_type": "markdown",
   "metadata": {},
   "source": [
    "---\n",
    "## Generar la malla y guardarla"
   ]
  },
  {
   "cell_type": "code",
   "execution_count": 16,
   "metadata": {},
   "outputs": [],
   "source": [
    "#### Defino el tipo de Malla\n",
    "mesh = om.TriMesh() # TriMesh es una funcion de OpenMesh (om)\n",
    "\n",
    "#Al momento de crear los vertices se agrega un Arreglo  [x,y,z] (z=0 para asegurar 2D)\n",
    "#a la funcion mesh.add_vertex()\n",
    "# vertices de malla\n",
    "vh0 = mesh.add_vertex([0, 0, 0])\n",
    "vh1 = mesh.add_vertex([0, 10, 0])\n",
    "vh2 = mesh.add_vertex([10, 0, 0])\n",
    "vh3 = mesh.add_vertex([10, 10, 0])\n",
    "vh4 = mesh.add_vertex([5, 0, 0])\n",
    "vh5 = mesh.add_vertex([6, 10, 0])\n",
    "vh6 = mesh.add_vertex([3, 5, 0])\n",
    "vh7 = mesh.add_vertex([8, 5, 0])\n",
    "\n",
    "#Celdas\n",
    "fh0 = mesh.add_face(vh1, vh6, vh5)\n",
    "fh1 = mesh.add_face(vh1, vh0, vh6)\n",
    "fh2 = mesh.add_face(vh0, vh4, vh6)\n",
    "fh3 = mesh.add_face(vh4, vh7, vh6)\n",
    "\n",
    "fh4 = mesh.add_face(vh7, vh5, vh6)\n",
    "fh5 = mesh.add_face(vh7, vh3, vh5)\n",
    "fh6 = mesh.add_face(vh2, vh3, vh7)\n",
    "fh7 = mesh.add_face(vh4, vh2, vh7)\n",
    "\n",
    "#Generar archivo\n",
    "om.write_mesh('siete_nodos.off', mesh)\n"
   ]
  },
  {
   "cell_type": "markdown",
   "metadata": {},
   "source": [
    "* Cargar la malla [En el caso que uno quiere trabajar con otra malla.]\n",
    "* Visualizar la malla\n"
   ]
  },
  {
   "cell_type": "code",
   "execution_count": 10,
   "metadata": {},
   "outputs": [],
   "source": [
    "# mesh = om.read_trimesh('dm.off')\n",
    "# mesh = om.read_trimesh('halfcircle.off')"
   ]
  },
  {
   "cell_type": "markdown",
   "metadata": {},
   "source": [
    "# Comandos básicos\n",
    "### Recorrer todos los nodos de la malla"
   ]
  },
  {
   "cell_type": "code",
   "execution_count": 11,
   "metadata": {},
   "outputs": [
    {
     "name": "stdout",
     "output_type": "stream",
     "text": [
      "[0. 0. 0.]\n",
      "[ 0. 10.  0.]\n",
      "[10.  0.  0.]\n",
      "[10. 10.  0.]\n",
      "[5. 0. 0.]\n",
      "[ 6. 10.  0.]\n",
      "[3. 5. 0.]\n",
      "[8. 5. 0.]\n"
     ]
    }
   ],
   "source": [
    "for vh in mesh.vertices():\n",
    "    #IMPRIMIR LAS COORDENADAS DE CADA VERTICE\n",
    "    punto = mesh.point(vh)\n",
    "    print(punto)"
   ]
  },
  {
   "cell_type": "markdown",
   "metadata": {},
   "source": [
    "Recorrer todas las interfaces"
   ]
  },
  {
   "cell_type": "code",
   "execution_count": 12,
   "metadata": {},
   "outputs": [
    {
     "name": "stdout",
     "output_type": "stream",
     "text": [
      "15\n",
      "15\n"
     ]
    }
   ],
   "source": [
    "contador = 0\n",
    "for eh in mesh.edges():\n",
    "    eIdx = eh.idx() # devuelve el indice global del elemento\n",
    "    contador = contador + 1\n",
    "    \n",
    "eIdx = eIdx + 1\n",
    "print(contador) # valor del total de numero de interfaces de la malla\n",
    "\n",
    "print(len(mesh.edges()))"
   ]
  },
  {
   "cell_type": "markdown",
   "metadata": {},
   "source": [
    "Recorrer varios niveles"
   ]
  },
  {
   "cell_type": "code",
   "execution_count": 13,
   "metadata": {},
   "outputs": [
    {
     "name": "stdout",
     "output_type": "stream",
     "text": [
      "Cara  0\n",
      "\t vh.idx 1\n",
      "\t vh.idx 6\n",
      "\t vh.idx 5\n",
      "\n",
      "\n",
      "\t ffh.idx 1\n",
      "\t ffh.idx 4\n",
      "\n",
      "\n",
      "\t Lados 2  boundary? True\n",
      "\t Lados 0  boundary? False\n",
      "\t Lados 1  boundary? False\n",
      "\n",
      "\n",
      "Cara  1\n",
      "\t vh.idx 1\n",
      "\t vh.idx 0\n",
      "\t vh.idx 6\n",
      "\n",
      "\n",
      "\t ffh.idx 0\n",
      "\t ffh.idx 2\n",
      "\n",
      "\n",
      "\t Lados 0  boundary? False\n",
      "\t Lados 3  boundary? True\n",
      "\t Lados 4  boundary? False\n",
      "\n",
      "\n",
      "Cara  2\n",
      "\t vh.idx 0\n",
      "\t vh.idx 4\n",
      "\t vh.idx 6\n",
      "\n",
      "\n",
      "\t ffh.idx 1\n",
      "\t ffh.idx 3\n",
      "\n",
      "\n",
      "\t Lados 4  boundary? False\n",
      "\t Lados 5  boundary? True\n",
      "\t Lados 6  boundary? False\n",
      "\n",
      "\n",
      "Cara  3\n",
      "\t vh.idx 4\n",
      "\t vh.idx 7\n",
      "\t vh.idx 6\n",
      "\n",
      "\n",
      "\t ffh.idx 2\n",
      "\t ffh.idx 7\n",
      "\t ffh.idx 4\n",
      "\n",
      "\n",
      "\t Lados 6  boundary? False\n",
      "\t Lados 7  boundary? False\n",
      "\t Lados 8  boundary? False\n",
      "\n",
      "\n",
      "Cara  4\n",
      "\t vh.idx 7\n",
      "\t vh.idx 5\n",
      "\t vh.idx 6\n",
      "\n",
      "\n",
      "\t ffh.idx 3\n",
      "\t ffh.idx 5\n",
      "\t ffh.idx 0\n",
      "\n",
      "\n",
      "\t Lados 8  boundary? False\n",
      "\t Lados 9  boundary? False\n",
      "\t Lados 1  boundary? False\n",
      "\n",
      "\n",
      "Cara  5\n",
      "\t vh.idx 7\n",
      "\t vh.idx 3\n",
      "\t vh.idx 5\n",
      "\n",
      "\n",
      "\t ffh.idx 4\n",
      "\t ffh.idx 6\n",
      "\n",
      "\n",
      "\t Lados 9  boundary? False\n",
      "\t Lados 10  boundary? False\n",
      "\t Lados 11  boundary? True\n",
      "\n",
      "\n",
      "Cara  6\n",
      "\t vh.idx 2\n",
      "\t vh.idx 3\n",
      "\t vh.idx 7\n",
      "\n",
      "\n",
      "\t ffh.idx 7\n",
      "\t ffh.idx 5\n",
      "\n",
      "\n",
      "\t Lados 13  boundary? False\n",
      "\t Lados 12  boundary? True\n",
      "\t Lados 10  boundary? False\n",
      "\n",
      "\n",
      "Cara  7\n",
      "\t vh.idx 4\n",
      "\t vh.idx 2\n",
      "\t vh.idx 7\n",
      "\n",
      "\n",
      "\t ffh.idx 3\n",
      "\t ffh.idx 6\n",
      "\n",
      "\n",
      "\t Lados 7  boundary? False\n",
      "\t Lados 14  boundary? True\n",
      "\t Lados 13  boundary? False\n",
      "\n",
      "\n"
     ]
    }
   ],
   "source": [
    "for fh in mesh.faces():\n",
    "    # IMPRIMIR LOS INDICES DE CADA CELDA(faces)\n",
    "    index = fh.idx() # devuelve el indice de la celda\n",
    "    print(\"Cara \", index)\n",
    "    # Recorrer los vertices de cada cara y mostrar sus indices\n",
    "    \n",
    "    # print('\\n')    \n",
    "    for vh in mesh.fv(fh):\n",
    "        idx = vh.idx() # devuelve indice del VERTICE\n",
    "        print(\"\\t vh.idx\", idx)\n",
    "        \n",
    "    print('\\n')\n",
    "    for ffh in mesh.ff(fh):\n",
    "        nCell = ffh.idx()\n",
    "        print(\"\\t ffh.idx\", nCell)\n",
    "        \n",
    "    print('\\n')\n",
    "    for eh in mesh.fe(fh):\n",
    "        nEdge = eh.idx()\n",
    "        print('\\t Lados', nEdge, ' boundary?', mesh.is_boundary(eh))\n",
    "        \n",
    "    print('\\n')\n",
    "            "
   ]
  },
  {
   "cell_type": "markdown",
   "metadata": {},
   "source": [
    "calcular baricentro de cualquiera variable ubicado en los vértices"
   ]
  },
  {
   "cell_type": "code",
   "execution_count": 14,
   "metadata": {},
   "outputs": [],
   "source": [
    "def bar(V):\n",
    "    Vbar = []\n",
    "    for fh in mesh.faces():\n",
    "        vloc = []\n",
    "        for vh in mesh.fv(fh):\n",
    "            vloc.append(V[vh.idx()])    \n",
    "        Vbar.append(sum(vloc)/3)        \n",
    "    Vbar = np.array(Vbar)\n",
    "    return Vbar\n",
    "\n",
    "#################################################################\n",
    "P=mesh.points()\n",
    "\n",
    "X = P[:,0]\n",
    "Y = P[:,1]\n",
    "\n",
    "# arreglos que guarda los baricentros de la celda\n",
    "# no es necesario declarar las variables, porque salen de una rutina\n",
    "Xbar = bar(X)\n",
    "Ybar = bar(Y)"
   ]
  },
  {
   "cell_type": "code",
   "execution_count": null,
   "metadata": {},
   "outputs": [],
   "source": []
  },
  {
   "cell_type": "code",
   "execution_count": null,
   "metadata": {},
   "outputs": [],
   "source": []
  },
  {
   "cell_type": "code",
   "execution_count": null,
   "metadata": {},
   "outputs": [],
   "source": []
  }
 ],
 "metadata": {
  "kernelspec": {
   "display_name": "Python 3",
   "language": "python",
   "name": "python3"
  },
  "language_info": {
   "codemirror_mode": {
    "name": "ipython",
    "version": 3
   },
   "file_extension": ".py",
   "mimetype": "text/x-python",
   "name": "python",
   "nbconvert_exporter": "python",
   "pygments_lexer": "ipython3",
   "version": "3.7.6"
  }
 },
 "nbformat": 4,
 "nbformat_minor": 4
}
