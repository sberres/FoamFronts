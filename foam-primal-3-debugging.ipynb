{
 "cells": [
  {
   "cell_type": "markdown",
   "metadata": {},
   "source": [
    "## Load mesh"
   ]
  },
  {
   "cell_type": "code",
   "execution_count": 1,
   "metadata": {},
   "outputs": [],
   "source": [
    "import openmesh as om\n",
    "import numpy as np\n",
    "from scipy.spatial import Delaunay\n",
    "import matplotlib.pyplot as plt\n",
    "\n",
    "# mesh = om.read_trimesh('foam15.off')\n",
    "mesh = om.read_trimesh('siete_nodos.off')\n",
    "mesh = om.read_trimesh('dm4.off')\n"
   ]
  },
  {
   "cell_type": "markdown",
   "metadata": {},
   "source": [
    "## Generate initial setup"
   ]
  },
  {
   "cell_type": "code",
   "execution_count": 2,
   "metadata": {},
   "outputs": [],
   "source": [
    "V=mesh.points()\n",
    "def get_T(x,y):\n",
    "    return x*(1+0.5*(1-y)**2)\n",
    "\n",
    "def get_S(x,y):\n",
    "    return x*(1-y)\n",
    "\n",
    "X=V[:,0]\n",
    "Y=V[:,1]\n",
    "\n",
    "T = get_T(V[:,0], V[:,1])\n",
    "S = get_S(V[:,0], V[:,1])\n",
    "U = np.array([*T, *S])"
   ]
  },
  {
   "cell_type": "code",
   "execution_count": 3,
   "metadata": {},
   "outputs": [],
   "source": [
    "## Rutines to calculate gradients\n"
   ]
  },
  {
   "cell_type": "code",
   "execution_count": 4,
   "metadata": {},
   "outputs": [
    {
     "name": "stdout",
     "output_type": "stream",
     "text": [
      "46\n",
      "nVertex: 46\n",
      "\n",
      " sum( [0.19739558 1.37340075 1.37340075 0.19739558 1.37340076 0.19739556] ) =  4.71 \n",
      " \n",
      "\n",
      "GRADIENT: \n",
      " [[[ 1.405       1.36124999  1.36124999  1.405       1.45125\n",
      "    1.405     ]\n",
      "  [-1.09375    -1.31249999 -1.31249999 -1.53124999 -1.3875\n",
      "   -1.15625   ]]] \n",
      " \n",
      "\n"
     ]
    }
   ],
   "source": [
    "import math\n",
    "\n",
    "def getGrad2(I, U):\n",
    "    m = np.zeros((2, 2))\n",
    "    b = np.zeros((2, 1))\n",
    "\n",
    "    for k in range(2):\n",
    "        m[k,0] = V[I[k+1],0]-V[I[0],0]\n",
    "        m[k,1] = V[I[k+1],1]-V[I[0],1]\n",
    "        b[k] = U[k+1]-U[0]\n",
    "                \n",
    "    g = np.linalg.solve(m, b)    \n",
    "    \n",
    "    return g\n",
    "\n",
    "def getGradients(vh, W):\n",
    "    nVertex = vh.idx()\n",
    "    \n",
    "    vlist = []\n",
    "    nlist = []    \n",
    "    \n",
    "    for vvh in mesh.vv(vh):\n",
    "        idx = vvh.idx() # devuelve indice del VERTICE\n",
    "        vlist.append(idx)\n",
    "        nlist.append(V[nVertex,:]-V[idx,:])\n",
    "    nlist=np.array(nlist)\n",
    "    # print(nVertex,': \\n', nlist,'\\n')\n",
    "    \n",
    "    # for n in nlist:\n",
    "    THETA=[]\n",
    "    GRADIENT=[]\n",
    "    for k in range(len(vlist)):\n",
    "            v1 = nlist[k-1,:]\n",
    "            v2 = nlist[k,:]\n",
    "            theta = np.arccos(np.dot(v1, v2) / (np.linalg.norm(v1) * np.linalg.norm(v2)))\n",
    "            I=[nVertex, vlist[k-1], vlist[k]]                \n",
    "                \n",
    "            if (abs(theta)<math.pi-1e-3) and (abs(theta) > 1e-3) and (abs(theta-math.pi/2)>1e-3):\n",
    "                g = getGrad2(I, W[I])\n",
    "                THETA.append(theta)\n",
    "                GRADIENT.append(g)\n",
    "                \n",
    "    THETA=np.array(THETA)  \n",
    "    GRADIENT=np.array(GRADIENT)\n",
    "\n",
    "    return THETA, GRADIENT\n",
    "\n",
    "for vh in mesh.vertices():\n",
    "    k = vh.idx()\n",
    "    # if (k>20) and (k < 30):\n",
    "    #    print(k)\n",
    "        \n",
    "    if k > 45:\n",
    "        break\n",
    "\n",
    "print(k)\n",
    "\n",
    "print('nVertex:', vh.idx())\n",
    "theta, gradient = getGradients(vh, T)\n",
    "\n",
    "print('\\n sum(', theta,') = % .2f' % sum(theta),'\\n \\n')\n",
    "print('GRADIENT: \\n', gradient.transpose(),'\\n \\n')"
   ]
  },
  {
   "cell_type": "code",
   "execution_count": 24,
   "metadata": {},
   "outputs": [
    {
     "name": "stdout",
     "output_type": "stream",
     "text": [
      "---- > --------------------------------------\n",
      "0\n",
      "gS, gT nan nan \n",
      " ....... \n",
      "\n",
      "nan <class 'numpy.float64'> \n",
      " ....... \n",
      "\n",
      "->  []\n"
     ]
    },
    {
     "name": "stderr",
     "output_type": "stream",
     "text": [
      "/opt/anaconda3/lib/python3.7/site-packages/ipykernel_launcher.py:25: RuntimeWarning: invalid value encountered in double_scalars\n",
      "/opt/anaconda3/lib/python3.7/site-packages/ipykernel_launcher.py:26: RuntimeWarning: invalid value encountered in double_scalars\n",
      "/opt/anaconda3/lib/python3.7/site-packages/ipykernel_launcher.py:36: DeprecationWarning: The truth value of an empty array is ambiguous. Returning False, but in future this will result in an error. Use `array.size > 0` to check that an array is not empty.\n",
      "/opt/anaconda3/lib/python3.7/site-packages/ipykernel_launcher.py:39: DeprecationWarning: The truth value of an empty array is ambiguous. Returning False, but in future this will result in an error. Use `array.size > 0` to check that an array is not empty.\n"
     ]
    },
    {
     "ename": "IndexError",
     "evalue": "invalid index to scalar variable.",
     "output_type": "error",
     "traceback": [
      "\u001b[0;31m---------------------------------------------------------------------------\u001b[0m",
      "\u001b[0;31mIndexError\u001b[0m                                Traceback (most recent call last)",
      "\u001b[0;32m<ipython-input-24-7c85daf9f85c>\u001b[0m in \u001b[0;36m<module>\u001b[0;34m\u001b[0m\n\u001b[1;32m     80\u001b[0m \u001b[0;34m\u001b[0m\u001b[0m\n\u001b[1;32m     81\u001b[0m \u001b[0mprint\u001b[0m\u001b[0;34m(\u001b[0m\u001b[0;34m'---- > --------------------------------------'\u001b[0m\u001b[0;34m)\u001b[0m\u001b[0;34m\u001b[0m\u001b[0;34m\u001b[0m\u001b[0m\n\u001b[0;32m---> 82\u001b[0;31m \u001b[0mres\u001b[0m \u001b[0;34m=\u001b[0m \u001b[0mresidual\u001b[0m\u001b[0;34m(\u001b[0m\u001b[0mU\u001b[0m\u001b[0;34m)\u001b[0m\u001b[0;34m\u001b[0m\u001b[0;34m\u001b[0m\u001b[0m\n\u001b[0m\u001b[1;32m     83\u001b[0m \u001b[0mprint\u001b[0m\u001b[0;34m(\u001b[0m\u001b[0mres\u001b[0m\u001b[0;34m)\u001b[0m\u001b[0;34m\u001b[0m\u001b[0;34m\u001b[0m\u001b[0m\n\u001b[1;32m     84\u001b[0m \u001b[0mprint\u001b[0m\u001b[0;34m(\u001b[0m\u001b[0;34m'------ < ------------------------------------'\u001b[0m\u001b[0;34m)\u001b[0m\u001b[0;34m\u001b[0m\u001b[0;34m\u001b[0m\u001b[0m\n",
      "\u001b[0;32m<ipython-input-24-7c85daf9f85c>\u001b[0m in \u001b[0;36mresidual\u001b[0;34m(U)\u001b[0m\n\u001b[1;32m     47\u001b[0m             \u001b[0;31m#    print('nan !!!')\u001b[0m\u001b[0;34m\u001b[0m\u001b[0;34m\u001b[0m\u001b[0;34m\u001b[0m\u001b[0m\n\u001b[1;32m     48\u001b[0m \u001b[0;34m\u001b[0m\u001b[0m\n\u001b[0;32m---> 49\u001b[0;31m             \u001b[0mrS\u001b[0m\u001b[0;34m=\u001b[0m\u001b[0mrS\u001b[0m\u001b[0;34m[\u001b[0m\u001b[0;36m0\u001b[0m\u001b[0;34m]\u001b[0m\u001b[0;34m\u001b[0m\u001b[0;34m\u001b[0m\u001b[0m\n\u001b[0m\u001b[1;32m     50\u001b[0m             \u001b[0;31m# r.append(rT)\u001b[0m\u001b[0;34m\u001b[0m\u001b[0;34m\u001b[0m\u001b[0;34m\u001b[0m\u001b[0m\n\u001b[1;32m     51\u001b[0m             \u001b[0;31m# r.append(rS[0])\u001b[0m\u001b[0;34m\u001b[0m\u001b[0;34m\u001b[0m\u001b[0;34m\u001b[0m\u001b[0m\n",
      "\u001b[0;31mIndexError\u001b[0m: invalid index to scalar variable."
     ]
    }
   ],
   "source": [
    "## Residual\n",
    "\n",
    "def residual(U):\n",
    "    N = int(len(U)/2)\n",
    "    T = U[0:N]\n",
    "    S = U[N:]\n",
    "    r = np.zeros(N*3)\n",
    "        \n",
    "    for vh in mesh.vertices():\n",
    "        k = vh.idx()            \n",
    "        if V[k,0] == 0: # x==0\n",
    "            r[k]=U[k]     # T(x=0,y) = 0\n",
    "            r[k+N]=U[k+N] # S(x=0,y) = 0\n",
    "        elif V[k,1] == 1: # y==0\n",
    "            r[k]=U[k]-V[k,0] # T(x,y=1) = x\n",
    "            r[k+N]=U[k+N]    # T(x,y=1) = 0\n",
    "        else: # interior\n",
    "            # print(k)\n",
    "            \n",
    "            # calculate gradients\n",
    "            theta, gT = getGradients(vh,T)\n",
    "            theta, gS = getGradients(vh,S)\n",
    "            \n",
    "            # calculate the Hamiltonians\n",
    "            gT_av = gT.transpose().dot(theta)/sum(theta+1e-5)\n",
    "            gS_av = gS.transpose().dot(theta)/sum(theta+1e-5)            \n",
    "            \n",
    "            # residual of T\n",
    "            rT = np.linalg.norm(gT_av) - V[k,1]/(S[k] + 1e-5)\n",
    "    \n",
    "            rS = gT_av/np.linalg.norm(gT_av+1e-5) - gS_av\n",
    "            print('gS, gT', gS_av, gT_av, '\\n ....... \\n')\n",
    "            \n",
    "            print(rS, type(rS), '\\n ....... \\n')\n",
    "            \n",
    "            if gT == float('nan'):\n",
    "                print('nan !!!')\n",
    "                \n",
    "            if gT != gT:\n",
    "                print('nan !!!')\n",
    "                \n",
    "            # nw print(math.isnan(gT))                \n",
    "            print('-> ', np.argwhere(np.isnan(gS)))\n",
    "\n",
    "            \n",
    "            # if math.isnan(gS):\n",
    "            #    print('nan !!!')\n",
    "            \n",
    "            rS=rS[0]\n",
    "            # r.append(rT)\n",
    "            # r.append(rS[0])\n",
    "            # r.append(rS[1])\n",
    "            \n",
    "            \n",
    "            print(rS, type(rS), '\\n ....... \\n')\n",
    "            print(rS[0])\n",
    "            print(rS[1])\n",
    "            \n",
    "            r[k*3] = rT\n",
    "            r[k*3+1] = rS[0]\n",
    "            r[k*3+2] = rS[1]\n",
    "            \n",
    "            # r[nVertex] = rT\n",
    "            # r[k+N] = \n",
    "            \n",
    "        #\n",
    "        #\n",
    "        # print('k =', k, ', \\t r :', r)\n",
    "        # \n",
    "        print(k)\n",
    "        r=np.array(r)\n",
    "        \n",
    "    return r\n",
    "\n",
    "\n",
    "def cost(u):\n",
    "    R=residual(u)\n",
    "    c=np.inner(R,R)\n",
    "    return c\n",
    "\n",
    "print('---- > --------------------------------------')\n",
    "res = residual(U)\n",
    "print(res)\n",
    "print('------ < ------------------------------------')"
   ]
  },
  {
   "cell_type": "code",
   "execution_count": null,
   "metadata": {},
   "outputs": [],
   "source": []
  },
  {
   "cell_type": "code",
   "execution_count": null,
   "metadata": {},
   "outputs": [],
   "source": []
  },
  {
   "cell_type": "code",
   "execution_count": null,
   "metadata": {},
   "outputs": [],
   "source": []
  },
  {
   "cell_type": "code",
   "execution_count": null,
   "metadata": {},
   "outputs": [],
   "source": []
  },
  {
   "cell_type": "markdown",
   "metadata": {},
   "source": [
    "## Run optimization routine"
   ]
  },
  {
   "cell_type": "code",
   "execution_count": 6,
   "metadata": {},
   "outputs": [
    {
     "name": "stdout",
     "output_type": "stream",
     "text": [
      "pipe screen output into file...\n"
     ]
    }
   ],
   "source": [
    "import scipy.optimize as opt\n",
    "import time\n",
    "import sys\n",
    "\n",
    "print('pipe screen output into file...')\n",
    "sys.stdout = open('output.txt', 'w') \n",
    "\n",
    "for method in ('nelder-mead', 'powell', 'cobyla','L-BFGS-B','BFGS'):\n",
    "    t0 = time.time()\n",
    "    res = opt.minimize(cost, U, method=method, tol=1e-10, options={'maxiter': 2, 'disp': True})\n",
    "    t1 = time.time()\n",
    "    \n",
    "    # U = res.x\n",
    "    print(res)\n",
    "    print('\\n<<< ---------',k,'----  %s' % method, ' ------ dt = %.1f \\n\\n\\n' % float(t1 - t0))"
   ]
  },
  {
   "cell_type": "code",
   "execution_count": null,
   "metadata": {},
   "outputs": [],
   "source": []
  },
  {
   "cell_type": "code",
   "execution_count": null,
   "metadata": {},
   "outputs": [],
   "source": [
    "\n"
   ]
  },
  {
   "cell_type": "code",
   "execution_count": null,
   "metadata": {},
   "outputs": [],
   "source": []
  },
  {
   "cell_type": "code",
   "execution_count": null,
   "metadata": {},
   "outputs": [],
   "source": []
  },
  {
   "cell_type": "code",
   "execution_count": null,
   "metadata": {},
   "outputs": [],
   "source": []
  },
  {
   "cell_type": "code",
   "execution_count": null,
   "metadata": {},
   "outputs": [],
   "source": []
  },
  {
   "cell_type": "code",
   "execution_count": null,
   "metadata": {},
   "outputs": [],
   "source": []
  },
  {
   "cell_type": "code",
   "execution_count": null,
   "metadata": {},
   "outputs": [],
   "source": []
  },
  {
   "cell_type": "code",
   "execution_count": null,
   "metadata": {},
   "outputs": [],
   "source": []
  },
  {
   "cell_type": "code",
   "execution_count": null,
   "metadata": {},
   "outputs": [],
   "source": []
  }
 ],
 "metadata": {
  "kernelspec": {
   "display_name": "Python 3",
   "language": "python",
   "name": "python3"
  },
  "language_info": {
   "codemirror_mode": {
    "name": "ipython",
    "version": 3
   },
   "file_extension": ".py",
   "mimetype": "text/x-python",
   "name": "python",
   "nbconvert_exporter": "python",
   "pygments_lexer": "ipython3",
   "version": "3.7.6"
  }
 },
 "nbformat": 4,
 "nbformat_minor": 4
}
