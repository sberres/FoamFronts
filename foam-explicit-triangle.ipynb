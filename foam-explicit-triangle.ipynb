{
 "cells": [
  {
   "cell_type": "markdown",
   "metadata": {},
   "source": [
    "## Explicit triangle"
   ]
  },
  {
   "cell_type": "markdown",
   "metadata": {},
   "source": [
    "The normal ${\\bf n}$ can be calculated in different ways:\n",
    "\n",
    "1. by back-looking, e.g. at the gradient of $\\triangle_{ABD}$, $\\tilde{\\bf{n}} = \\rm{grad} (\\triangle_{ABD})$, then normalizing ${\\bf n} = {\\bf \\tilde{n}}/{\\| \\bf \\tilde{n}} \\|$\n",
    "2. by an interpolation or approximation with a broader stencil.\n",
    "3. local self-reference on the current triangle $\\triangle_{ABD}$\n",
    "4. extended stencil around the current triangle\n",
    "\n",
    "[We started with option (1.), but now option (3.) seems the more accurate approach, with the perspective of options (2.) and (4.) for achieving higher order].\n",
    "\n",
    "\n"
   ]
  },
  {
   "cell_type": "markdown",
   "metadata": {},
   "source": []
  },
  {
   "cell_type": "markdown",
   "metadata": {},
   "source": [
    "## Load mesh\n",
    "\n",
    "In order to test the algorithm with real data we generate a mesh."
   ]
  },
  {
   "cell_type": "code",
   "execution_count": 5,
   "metadata": {},
   "outputs": [],
   "source": [
    "import openmesh as om\n",
    "import numpy as np\n",
    "import matplotlib.pyplot as plt\n",
    "import math\n",
    "\n",
    "mesh = om.read_trimesh('T4b.off')\n",
    "V = mesh.points()\n",
    "\n",
    "X_MAX = 0.5\n",
    "Y_MIN = 0.6\n",
    "V[:,0] = V[:,0]*X_MAX / 4\n",
    "V[:,1] = Y_MIN + (1-Y_MIN)*V[:,1]\n",
    "X=V[:,0]\n",
    "Y=V[:,1]\n",
    "T = X*(1+0.5*(1-Y)**2)\n",
    "S = X*(1+0.5*(1-Y)**2)"
   ]
  },
  {
   "cell_type": "markdown",
   "metadata": {},
   "source": [
    "Generate a list of boundary faces, and obtain their indices:"
   ]
  },
  {
   "cell_type": "code",
   "execution_count": 7,
   "metadata": {},
   "outputs": [
    {
     "name": "stdout",
     "output_type": "stream",
     "text": [
      "[0, 2, 8, 9, 18, 19, 22, 28, 29, 30, 31, 33, 37, 39, 40, 53, 54, 55, 61, 68, 69, 70, 74, 76, 80, 85]\n"
     ]
    }
   ],
   "source": [
    "def getBoundaryFaces():\n",
    "    BoundaryFaceList = []\n",
    "    for fh in mesh.faces():\n",
    "        if mesh.is_boundary(fh):\n",
    "            BoundaryFaceList.append(fh)          \n",
    "    return BoundaryFaceList\n",
    "\n",
    "def getIndices(HandleList):\n",
    "    I_list = []\n",
    "    for h in HandleList:\n",
    "        I_list.append(h.idx())        \n",
    "    return I_list\n",
    "    \n",
    "BoundaryFaceList = getBoundaryFaces()\n",
    "BoundaryFaceIndices = getIndices(BoundaryFaceList)\n",
    "print(BoundaryFaceIndices)\n"
   ]
  },
  {
   "cell_type": "code",
   "execution_count": 8,
   "metadata": {},
   "outputs": [
    {
     "name": "stdout",
     "output_type": "stream",
     "text": [
      "[32, 52, 3]\n"
     ]
    }
   ],
   "source": [
    "def getNodeIndices(fh):\n",
    "    I = []\n",
    "    for vh in mesh.fv(fh):\n",
    "        I.append(vh.idx())            \n",
    "    return I\n",
    "\n",
    "fh = BoundaryFaceList[3]\n",
    "I = getNodeIndices(fh)\n",
    "print(I)"
   ]
  },
  {
   "cell_type": "markdown",
   "metadata": {},
   "source": [
    "Identify the faces at the incoming borders:"
   ]
  },
  {
   "cell_type": "code",
   "execution_count": 9,
   "metadata": {},
   "outputs": [
    {
     "name": "stdout",
     "output_type": "stream",
     "text": [
      "\t face \t I \t \t X \t \t \t \t Y\n",
      "x=0: \t 0  \t [15, 10, 38] \t [0.     0.     0.0625] \t [0.84000001 0.76       0.8       ]\n",
      "x=0: \t 2  \t [5, 34, 10] \t [0.     0.0625 0.    ] \t [0.68 0.72 0.76]\n",
      "x=0: \t 18  \t [50, 30, 0] \t [0.0625 0.0625 0.    ] \t [0.6  0.64 0.6 ]\n",
      "x=0: \t 19  \t [30, 5, 0] \t [0.0625 0.     0.    ] \t [0.64 0.68 0.6 ]\n",
      "y=1: \t 39  \t [49, 57, 28] \t [0.4375 0.4375 0.375 ] \t [0.95999999 1.         1.        ]\n",
      "y=1: \t 40  \t [57, 49, 29] \t [0.4375 0.4375 0.5   ] \t [1.         0.95999999 1.        ]\n",
      "x=0: \t 53  \t [46, 54, 25] \t [0.0625 0.0625 0.    ] \t [0.95999999 1.         1.        ]\n",
      "y=1: \t 53  \t [46, 54, 25] \t [0.0625 0.0625 0.    ] \t [0.95999999 1.         1.        ]\n",
      "x=0: \t 54  \t [20, 46, 25] \t [0.     0.0625 0.    ] \t [0.92       0.95999999 1.        ]\n",
      "y=1: \t 54  \t [20, 46, 25] \t [0.     0.0625 0.    ] \t [0.92       0.95999999 1.        ]\n",
      "y=1: \t 55  \t [54, 46, 26] \t [0.0625 0.0625 0.125 ] \t [1.         0.95999999 1.        ]\n",
      "y=1: \t 69  \t [49, 24, 29] \t [0.4375 0.5    0.5   ] \t [0.95999999 0.92       1.        ]\n",
      "y=1: \t 70  \t [48, 56, 27] \t [0.3125 0.3125 0.25  ] \t [0.95999999 1.         1.        ]\n",
      "y=1: \t 74  \t [56, 48, 28] \t [0.3125 0.3125 0.375 ] \t [1.         0.95999999 1.        ]\n",
      "y=1: \t 76  \t [55, 47, 27] \t [0.1875 0.1875 0.25  ] \t [1.         0.95999999 1.        ]\n",
      "y=1: \t 80  \t [47, 55, 26] \t [0.1875 0.1875 0.125 ] \t [0.95999999 1.         1.        ]\n",
      "x=0: \t 85  \t [42, 20, 15] \t [0.0625 0.     0.    ] \t [0.88       0.92       0.84000001]\n"
     ]
    }
   ],
   "source": [
    "print('\\t face \\t I \\t \\t X \\t \\t \\t \\t Y')\n",
    "for fh in BoundaryFaceList:\n",
    "    I = getNodeIndices(fh)\n",
    "    if 0 in X[I]:\n",
    "        print('x=0: \\t', fh.idx(), ' \\t', I, '\\t', X[I], '\\t', Y[I])\n",
    "    if 1 in Y[I]:\n",
    "        print('y=1: \\t', fh.idx(), ' \\t', I, '\\t', X[I], '\\t', Y[I])"
   ]
  },
  {
   "cell_type": "markdown",
   "metadata": {},
   "source": [
    "We have identified:\n",
    "\n",
    "* face 2, where $x_A=0, x_B=0, x_C=h_x$\n",
    "* face 40, where $y_A = 1, y_B= 1, y_C = 1 - h_y$\n"
   ]
  },
  {
   "cell_type": "code",
   "execution_count": 6,
   "metadata": {},
   "outputs": [
    {
     "name": "stdout",
     "output_type": "stream",
     "text": [
      "[1 0]\n"
     ]
    }
   ],
   "source": [
    "fh = mesh.face_handle(2)\n",
    "fh = mesh.face_handle(40)\n",
    "\n",
    "I = getNodeIndices(fh)\n",
    "if 0 in X[I] or 1 in Y[I]:\n",
    "    n = np.array([1, 0])\n",
    "    print(n)"
   ]
  },
  {
   "cell_type": "code",
   "execution_count": null,
   "metadata": {},
   "outputs": [],
   "source": []
  },
  {
   "cell_type": "markdown",
   "metadata": {},
   "source": [
    "In a triangle with nodes $A, B, C$, we want to project the value of $C$ from given values in $A, B$.\n",
    "by the following geometrix construction:\n",
    "\\begin{align}\n",
    "    {\\bf x}(\\xi) = (1-\\xi) {\\bf x}_A + \\xi {\\bf x}_B \\\\\n",
    "    {\\bf x}_C = {\\bf x}(\\xi) + {\\bf n} \\Delta x ,\n",
    "\\end{align}\n",
    "which allows to resolve\n",
    "\\begin{align*}\n",
    "    \\frac{\\Delta x}{\\Delta t} = v\n",
    "\\end{align*}\n",
    "within the geometry\n",
    "\\begin{align*}\n",
    "    \\Delta t = T_C - T_\\xi \\\\\n",
    "    \\Delta x = \\| {\\bf x}_C - {\\bf x}_\\xi \\|_2\n",
    "\\end{align*}\n",
    "If the positions ${\\bf x}_A, {\\bf x}_B, {\\bf x}_C$ and the normal ${\\bf n}$ are given,\n",
    "then the position parameter $\\xi$ and the step $\\Delta x$ can be calculated by solving the system of equations\n",
    "\\begin{align*}\n",
    "    \\begin{bmatrix}\n",
    "        {\\bf x}_B - {\\bf x}_A | {\\bf n}\n",
    "    \\end{bmatrix}\n",
    "    \\begin{pmatrix}\n",
    "        \\xi \\\\\n",
    "        \\Delta x\n",
    "    \\end{pmatrix}\n",
    "    =\n",
    "    {\\bf x}_C - {\\bf x}_A\n",
    "\\end{align*}\n",
    "With this information various variables can interpolated in the proyection pivot as\n",
    "\\begin{align*}\n",
    "    y_\\xi = (1-\\xi) y_A + \\xi y_B \\\\\n",
    "    S_\\xi = (1-\\xi) S_A + \\xi S_B \\\\\n",
    "    T_\\xi = (1-\\xi) T_A + \\xi T_B, \n",
    "\\end{align*}\n",
    "such that \n",
    "the proyected values in node $C$ are obtained es\n",
    "\\begin{align*}\n",
    "    S_C = S_\\xi + \\Delta x \\\\\n",
    "    T_C = T_\\xi + \\Delta x v^{-1}\n",
    "\\end{align*}\n",
    "The velocity inverse\n",
    "\\begin{align*}\n",
    "    v^{-1} = w = \\frac{S}{y}\n",
    "\\end{align*}\n",
    "is approximated in the interval $[{\\bf x}_\\xi, {\\bf x}_C]$ by the trapezoide\n",
    "\\begin{align*}\n",
    "    \\frac{1}{\\| {\\bf x}_C - {\\bf x}_\\xi \\|} \\int_{{\\bf x}_\\xi}^{{\\bf x}_C} v^{-1} ({\\bf x (\\omega)}) \\omega \n",
    "    %\n",
    "    \\approx \\frac{1}{2} \\Bigl[ v_\\xi^{-1} + v_c^{-1} \\Bigr]\n",
    "    =\n",
    "    \\frac{1}{2} \\Bigl[ \\frac{S_\\xi}{y_\\xi} + \\frac{S_c}{y_C} \\Bigr]\n",
    "\\end{align*}\n",
    "\n",
    "\\begin{align*}\n",
    "\\end{align*}\n",
    "\n",
    "\\begin{align*}\n",
    "\\end{align*}\n",
    "\n",
    "\\begin{align*}\n",
    "\\end{align*}\n",
    "\n",
    "\n",
    "\n"
   ]
  },
  {
   "cell_type": "code",
   "execution_count": null,
   "metadata": {},
   "outputs": [],
   "source": []
  },
  {
   "cell_type": "code",
   "execution_count": 7,
   "metadata": {},
   "outputs": [],
   "source": [
    "def getGrad2(I, U):\n",
    "    m = np.zeros((2, 2))\n",
    "    b = np.zeros((2, 1))\n",
    "\n",
    "    for k in range(2):\n",
    "        m[k,0] = X[I[k+1]] - X[I[0]]\n",
    "        m[k,1] = Y[I[k+1]] - Y[I[0]]\n",
    "        b[k] = U[k+1]-U[0]\n",
    "                \n",
    "    g = np.linalg.solve(m, b)    \n",
    "    # c = np.linalg.cond(m)\n",
    "\n",
    "    return g\n",
    "\n",
    "\n",
    "def getAngle(v1, v2):\n",
    "    angle = np.arccos(np.dot(v1, v2) / (np.linalg.norm(v1) * np.linalg.norm(v2)))    \n",
    "    return angle\n",
    "\n",
    "def get_TS_C(I):    \n",
    "    # swap indices to guarantee order T_A < T_B\n",
    "    if T[I[0]] > T[I[1]]:\n",
    "        I[0], I[1] = I[1], I[0]\n",
    "    \n",
    "    x_A = V[I[0],0:2]\n",
    "    x_B = V[I[1],0:2]\n",
    "    x_C = V[I[2],0:2]\n",
    "    \n",
    "    T_A=T[I[0]]\n",
    "    S_A=S[I[0]]\n",
    "    T_B=T[I[1]]\n",
    "    S_B=S[I[1]]\n",
    "    # T_C=T[I[2]]\n",
    "    # S_C=S[I[2]]\n",
    "    \n",
    "    # \n",
    "    x_AB = x_B-x_A\n",
    "    x_CA = x_C-x_A\n",
    "    \n",
    "    #\n",
    "    U = T[I]\n",
    "    g = getGrad2(I, U)\n",
    "    n_A = g / (g[0]**2 + g[1]**2)**0.5\n",
    "    n_A = np.array([1, 0])\n",
    "    \n",
    "    \n",
    "    #\n",
    "    M = np.vstack((x_AB,n_A)).transpose()\n",
    "    c = np.linalg.cond(M)\n",
    "    if c > 1e9:\n",
    "        print('ERR: cond', c)\n",
    "        return c, c, c, c\n",
    "        # 'inf', 'inf', 'inf', 'inf'\n",
    "    \n",
    "    p = np.linalg.solve(M, x_CA)\n",
    "    xi = p[0]\n",
    "    delta_X = p[1]    \n",
    "    \n",
    "    #\n",
    "    x_xi = (1-xi)*x_A + xi*x_B\n",
    "    S_xi = (1-xi)*S_A + xi*S_B\n",
    "    T_xi = (1-xi)*T_A + xi*T_B\n",
    "    S_C = S_xi + delta_X\n",
    "    vel_inv = (S_xi/x_xi[1] + S_C/x_C[1])/2\n",
    "    T_C = T_xi + delta_X*vel_inv\n",
    "    \n",
    "    return xi, delta_X, S_C, T_C\n",
    "\n",
    "# calculating residual\n",
    "def res_TS_I(I):\n",
    "    xi, delta_X, S_C, T_C = get_TS_C(I)\n",
    "    \n",
    "    rT = T_C - T[I[2]]\n",
    "    rS = S_C - S[I[2]] \n",
    "    \n",
    "    return rT, rS\n",
    "    \n",
    "global global_I\n",
    "\n",
    "\n",
    "def residual(U): # res_TS_U_C(U):\n",
    "    global global_I\n",
    "    I = global_I\n",
    "    \n",
    "    T[I[2]] = U[0]\n",
    "    S[I[2]] = U[1]\n",
    "\n",
    "    xi, delta_X, S_C, T_C = get_TS_C(I)    \n",
    "\n",
    "    rT = T_C - T[I[2]]\n",
    "    rS = S_C - S[I[2]] \n",
    "    \n",
    "    return rT, rS\n",
    "    \n",
    "def cost(u):\n",
    "    R=residual(u)\n",
    "    c=np.inner(R,R)\n",
    "    return c    \n",
    "    \n",
    "rT_1, rS_1 = res_TS_I([I[0], I[1], I[2]])\n",
    "\n",
    "\n",
    "\n",
    "    "
   ]
  },
  {
   "cell_type": "code",
   "execution_count": 22,
   "metadata": {},
   "outputs": [
    {
     "name": "stdout",
     "output_type": "stream",
     "text": [
      "I: [5, 10, 34] , \t X: [0.     0.     0.0625] , \t Y: [0.68 0.76 0.72]\n",
      "ortogonality: 0.0 -0.8422713787794882 0.842271415249527\n",
      "cases: 0\n"
     ]
    }
   ],
   "source": [
    "def cases(I):\n",
    "    x_A = V[I[0],0:2]\n",
    "    x_B = V[I[1],0:2]\n",
    "    x_C = V[I[2],0:2]\n",
    "    \n",
    "    n_A = np.array([1, 0])\n",
    "    x_AB = x_B-x_A\n",
    "    x_CA = x_A-x_C\n",
    "    x_BC = x_C-x_B\n",
    "    x_AB = x_AB / (x_AB[0]**2 + x_AB[1]**2)**0.5\n",
    "    x_CA = x_CA / (x_CA[0]**2 + x_CA[1]**2)**0.5\n",
    "    x_BC = x_BC / (x_BC[0]**2 + x_BC[1]**2)**0.5\n",
    "\n",
    "    # theta1=getAngle(n_A, x_AB)\n",
    "    # theta2=getAngle(n_A, x_CA)\n",
    "    # theta3=getAngle(n_A, x_BC)\n",
    "    # print(theta1, theta2, theta3)\n",
    "    \n",
    "    a1=np.dot(n_A, x_AB)\n",
    "    a2=np.dot(n_A, x_CA)\n",
    "    a3=np.dot(n_A, x_BC)\n",
    "    a = abs(np.array([a1, a2, a3]))\n",
    "    \n",
    "    print('ortogonality:', a1, a2, a3)\n",
    "    argmin_a = np.argmin(a)\n",
    "\n",
    "    return argmin_a\n",
    "\n",
    "I = [57, 29, 49] # y=1\n",
    "I = [5, 10, 34] # x=0\n",
    "print('I:', I, ', \\t X:', X[I], ', \\t Y:', Y[I])\n",
    "\n",
    "cs = cases(I)\n",
    "print('cases:', cs)"
   ]
  },
  {
   "cell_type": "code",
   "execution_count": null,
   "metadata": {},
   "outputs": [],
   "source": []
  },
  {
   "cell_type": "code",
   "execution_count": null,
   "metadata": {},
   "outputs": [],
   "source": []
  },
  {
   "cell_type": "code",
   "execution_count": null,
   "metadata": {},
   "outputs": [],
   "source": []
  },
  {
   "cell_type": "code",
   "execution_count": null,
   "metadata": {},
   "outputs": [],
   "source": []
  },
  {
   "cell_type": "code",
   "execution_count": null,
   "metadata": {},
   "outputs": [],
   "source": []
  },
  {
   "cell_type": "code",
   "execution_count": null,
   "metadata": {},
   "outputs": [],
   "source": []
  },
  {
   "cell_type": "code",
   "execution_count": 23,
   "metadata": {},
   "outputs": [
    {
     "name": "stdout",
     "output_type": "stream",
     "text": [
      "(-0.9972873264068542, -0.9375)\n"
     ]
    }
   ],
   "source": [
    "import scipy.optimize as opt\n",
    "import time\n",
    "\n",
    "U = np.zeros(2)\n",
    "U[0] = T[I[2]]\n",
    "U[1] = S[I[2]]\n",
    "\n",
    "U[0] = 1\n",
    "U[1] = 1\n",
    "\n",
    "global global_I\n",
    "global_I = I\n",
    "r = residual(U)\n",
    "print(r)"
   ]
  },
  {
   "cell_type": "code",
   "execution_count": 24,
   "metadata": {},
   "outputs": [
    {
     "name": "stdout",
     "output_type": "stream",
     "text": [
      "Optimization terminated successfully.\n",
      "         Current function value: 0.000000\n",
      "         Iterations: 2\n",
      "         Function evaluations: 36\n",
      "\n",
      " t1-t0: = 0.0 \n",
      " res:    direc: array([[1., 0.],\n",
      "       [0., 1.]])\n",
      "     fun: 5.58105909860809e-32\n",
      " message: 'Optimization terminated successfully.'\n",
      "    nfev: 36\n",
      "     nit: 2\n",
      "  status: 0\n",
      " success: True\n",
      "       x: array([0.00271267, 0.0625    ])\n"
     ]
    }
   ],
   "source": [
    "t0 = time.time()\n",
    "res = opt.minimize(cost, U, method='powell', tol=1e-10, options={'maxiter': 200, 'disp': True})\n",
    "t1 = time.time()\n",
    "\n",
    "print('\\n t1-t0: = %.1f' % float(t1 - t0),'\\n res:', res)"
   ]
  },
  {
   "cell_type": "code",
   "execution_count": 25,
   "metadata": {},
   "outputs": [
    {
     "data": {
      "text/plain": [
       "5.58105909860809e-32"
      ]
     },
     "execution_count": 25,
     "metadata": {},
     "output_type": "execute_result"
    }
   ],
   "source": [
    "res.x\n",
    "res.fun"
   ]
  },
  {
   "cell_type": "code",
   "execution_count": null,
   "metadata": {},
   "outputs": [],
   "source": []
  },
  {
   "cell_type": "markdown",
   "metadata": {},
   "source": [
    "The equation for one triangle can be formulated in an explicit or an implicit way:\n",
    "\\begin{align*}\n",
    "    \\triangle-\\text{explicit} \\qquad U_C = F_{\\rm expl}(U_A, U_B) \\\\\n",
    "    \\triangle-\\text{implicit} \\qquad F_{\\rm impl}(U_A, U_B; U_C) = 0\n",
    "\\end{align*}\n",
    "Both formulations are mutually transformable.\n",
    "The transformation of the implicit equations to the explicit equations can be donde by defining\n",
    "\\begin{align*}\n",
    "    F_{\\rm impl}(U_A, U_B; U_C) := F_{\\rm expl}(U_A, U_B) - U_C\n",
    "\\end{align*}\n",
    "the transformation from the implicit formulation to explicit formulation can be done by employing an optimization algorithm.\n"
   ]
  },
  {
   "cell_type": "code",
   "execution_count": 26,
   "metadata": {},
   "outputs": [
    {
     "name": "stdout",
     "output_type": "stream",
     "text": [
      "ERR: cond inf\n",
      "xi: -0.0 , \t dX: 0.0625 , \t S_C: 0.5 , \t T_C: 0.466796875\n",
      "xi: inf , \t dX: inf , \t S_C: inf , \t T_C: inf\n",
      "xi: 1.0 , \t dX: -0.0625 , \t S_C: 0.4375 , \t T_C: 0.470703125\n",
      "--------- \n",
      "\n",
      "2 inf\n"
     ]
    }
   ],
   "source": [
    "I = [57, 49, 29]\n",
    "\n",
    "xi_1, dX_1, S_C1, T_C1 = get_TS_C(I)\n",
    "\n",
    "xi_1, dX_1, S_C1, T_C1 = get_TS_C([I[0], I[1], I[2]])\n",
    "xi_2, dX_2, S_C2, T_C2 = get_TS_C([I[2], I[0], I[1]])\n",
    "xi_3, dX_3, S_C3, T_C3 = get_TS_C([I[1], I[2], I[0]])\n",
    "\n",
    "\n",
    "print('xi:', xi_1, ', \\t dX:', dX_1, ', \\t S_C:', S_C1, ', \\t T_C:',T_C1)\n",
    "print('xi:', xi_2, ', \\t dX:', dX_2, ', \\t S_C:', S_C2, ', \\t T_C:',T_C2)\n",
    "print('xi:', xi_3, ', \\t dX:', dX_3, ', \\t S_C:', S_C3, ', \\t T_C:',T_C3)\n",
    "print('--------- \\n')\n",
    "\n",
    "rT_1, rS_1 = residual([I[0], I[1], I[2]])\n",
    "rT_2, rS_2 = residual([I[2], I[0], I[1]])\n",
    "rT_3, rS_3 = residual([I[1], I[2], I[0]])\n",
    "\n",
    "# ', \\t rT', rT_1, ', \\t rS', rS_1)\n",
    "\n",
    "if math.isinf(xi_1):\n",
    "    print('1', xi_1)\n",
    "    \n",
    "if math.isinf(xi_2):\n",
    "    print('2', xi_2)  \n",
    "    \n",
    "if math.isinf(xi_3):\n",
    "    print('3', xi_3)\n"
   ]
  },
  {
   "cell_type": "code",
   "execution_count": null,
   "metadata": {},
   "outputs": [],
   "source": []
  },
  {
   "cell_type": "code",
   "execution_count": null,
   "metadata": {},
   "outputs": [],
   "source": []
  },
  {
   "cell_type": "code",
   "execution_count": null,
   "metadata": {},
   "outputs": [],
   "source": []
  },
  {
   "cell_type": "code",
   "execution_count": 27,
   "metadata": {},
   "outputs": [
    {
     "ename": "NameError",
     "evalue": "name 'x_A' is not defined",
     "output_type": "error",
     "traceback": [
      "\u001b[0;31m---------------------------------------------------------------------------\u001b[0m",
      "\u001b[0;31mNameError\u001b[0m                                 Traceback (most recent call last)",
      "\u001b[0;32m<ipython-input-27-70000c7b6c78>\u001b[0m in \u001b[0;36m<module>\u001b[0;34m\u001b[0m\n\u001b[1;32m      1\u001b[0m \u001b[0;32mif\u001b[0m \u001b[0;32mTrue\u001b[0m\u001b[0;34m:\u001b[0m\u001b[0;34m\u001b[0m\u001b[0;34m\u001b[0m\u001b[0m\n\u001b[0;32m----> 2\u001b[0;31m     \u001b[0;32mif\u001b[0m \u001b[0mx_A\u001b[0m\u001b[0;34m[\u001b[0m\u001b[0;36m0\u001b[0m\u001b[0;34m]\u001b[0m\u001b[0;34m==\u001b[0m\u001b[0;36m0\u001b[0m \u001b[0;32mand\u001b[0m \u001b[0mx_B\u001b[0m\u001b[0;34m[\u001b[0m\u001b[0;36m0\u001b[0m\u001b[0;34m]\u001b[0m\u001b[0;34m==\u001b[0m\u001b[0;36m0\u001b[0m\u001b[0;34m:\u001b[0m\u001b[0;34m\u001b[0m\u001b[0;34m\u001b[0m\u001b[0m\n\u001b[0m\u001b[1;32m      3\u001b[0m         \u001b[0mn_A\u001b[0m \u001b[0;34m=\u001b[0m \u001b[0mnp\u001b[0m\u001b[0;34m.\u001b[0m\u001b[0marray\u001b[0m\u001b[0;34m(\u001b[0m\u001b[0;34m[\u001b[0m\u001b[0;36m1\u001b[0m\u001b[0;34m,\u001b[0m\u001b[0;36m0\u001b[0m\u001b[0;34m]\u001b[0m\u001b[0;34m)\u001b[0m\u001b[0;34m\u001b[0m\u001b[0;34m\u001b[0m\u001b[0m\n\u001b[1;32m      4\u001b[0m     \u001b[0;32melif\u001b[0m \u001b[0mx_A\u001b[0m\u001b[0;34m[\u001b[0m\u001b[0;36m1\u001b[0m\u001b[0;34m]\u001b[0m\u001b[0;34m==\u001b[0m\u001b[0;36m1\u001b[0m \u001b[0;32mand\u001b[0m \u001b[0mx_B\u001b[0m\u001b[0;34m[\u001b[0m\u001b[0;36m1\u001b[0m\u001b[0;34m]\u001b[0m\u001b[0;34m==\u001b[0m\u001b[0;36m1\u001b[0m\u001b[0;34m:\u001b[0m\u001b[0;34m\u001b[0m\u001b[0;34m\u001b[0m\u001b[0m\n\u001b[1;32m      5\u001b[0m         \u001b[0mn_A\u001b[0m \u001b[0;34m=\u001b[0m \u001b[0mnp\u001b[0m\u001b[0;34m.\u001b[0m\u001b[0marray\u001b[0m\u001b[0;34m(\u001b[0m\u001b[0;34m[\u001b[0m\u001b[0;36m1\u001b[0m\u001b[0;34m,\u001b[0m\u001b[0;36m0\u001b[0m\u001b[0;34m]\u001b[0m\u001b[0;34m)\u001b[0m\u001b[0;34m\u001b[0m\u001b[0;34m\u001b[0m\u001b[0m\n",
      "\u001b[0;31mNameError\u001b[0m: name 'x_A' is not defined"
     ]
    }
   ],
   "source": [
    "if True:\n",
    "    if x_A[0]==0 and x_B[0]==0:\n",
    "        n_A = np.array([1,0])\n",
    "    elif x_A[1]==1 and x_B[1]==1:\n",
    "        n_A = np.array([1,0])\n",
    "    else:\n",
    "        n_A = getGrad2(I, U)\n",
    "\n",
    "    \n",
    "###################################################"
   ]
  },
  {
   "cell_type": "code",
   "execution_count": 17,
   "metadata": {},
   "outputs": [
    {
     "ename": "NameError",
     "evalue": "name 'n_A' is not defined",
     "output_type": "error",
     "traceback": [
      "\u001b[0;31m---------------------------------------------------------------------------\u001b[0m",
      "\u001b[0;31mNameError\u001b[0m                                 Traceback (most recent call last)",
      "\u001b[0;32m<ipython-input-17-b287b497a51c>\u001b[0m in \u001b[0;36m<module>\u001b[0;34m\u001b[0m\n\u001b[0;32m----> 1\u001b[0;31m \u001b[0mn_A\u001b[0m\u001b[0;34m\u001b[0m\u001b[0;34m\u001b[0m\u001b[0m\n\u001b[0m",
      "\u001b[0;31mNameError\u001b[0m: name 'n_A' is not defined"
     ]
    }
   ],
   "source": [
    "n_A"
   ]
  },
  {
   "cell_type": "code",
   "execution_count": null,
   "metadata": {},
   "outputs": [],
   "source": []
  },
  {
   "cell_type": "code",
   "execution_count": null,
   "metadata": {},
   "outputs": [],
   "source": []
  },
  {
   "cell_type": "code",
   "execution_count": null,
   "metadata": {},
   "outputs": [],
   "source": []
  },
  {
   "cell_type": "code",
   "execution_count": null,
   "metadata": {},
   "outputs": [],
   "source": []
  },
  {
   "cell_type": "code",
   "execution_count": null,
   "metadata": {},
   "outputs": [],
   "source": []
  },
  {
   "cell_type": "code",
   "execution_count": null,
   "metadata": {},
   "outputs": [],
   "source": [
    "\n"
   ]
  },
  {
   "cell_type": "code",
   "execution_count": null,
   "metadata": {},
   "outputs": [],
   "source": []
  },
  {
   "cell_type": "code",
   "execution_count": null,
   "metadata": {},
   "outputs": [],
   "source": []
  },
  {
   "cell_type": "code",
   "execution_count": null,
   "metadata": {},
   "outputs": [],
   "source": []
  },
  {
   "cell_type": "code",
   "execution_count": null,
   "metadata": {},
   "outputs": [],
   "source": [
    "\n"
   ]
  },
  {
   "cell_type": "code",
   "execution_count": null,
   "metadata": {},
   "outputs": [],
   "source": []
  },
  {
   "cell_type": "code",
   "execution_count": null,
   "metadata": {},
   "outputs": [],
   "source": []
  }
 ],
 "metadata": {
  "kernelspec": {
   "display_name": "Python 3",
   "language": "python",
   "name": "python3"
  },
  "language_info": {
   "codemirror_mode": {
    "name": "ipython",
    "version": 3
   },
   "file_extension": ".py",
   "mimetype": "text/x-python",
   "name": "python",
   "nbconvert_exporter": "python",
   "pygments_lexer": "ipython3",
   "version": "3.7.6"
  }
 },
 "nbformat": 4,
 "nbformat_minor": 4
}
