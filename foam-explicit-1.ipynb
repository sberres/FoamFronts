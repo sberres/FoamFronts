{
 "cells": [
  {
   "cell_type": "markdown",
   "metadata": {},
   "source": [
    "We have a mesh, consisting of vertices and corresponding faces."
   ]
  },
  {
   "cell_type": "code",
   "execution_count": 1,
   "metadata": {},
   "outputs": [],
   "source": [
    "import openmesh as om\n",
    "import numpy as np\n",
    "import matplotlib.pyplot as plt\n",
    "\n",
    "mesh = om.read_trimesh('T4.off')\n",
    "V=mesh.points()\n",
    "X=V[:,0]\n",
    "Y=V[:,1]"
   ]
  },
  {
   "cell_type": "markdown",
   "metadata": {},
   "source": [
    "Get the nodes at the incoming boundary. We register them in an active node list ActiveNodeList. (Or \"Calculated node list\" ?) The purpose is to get all the other nodes also into this list."
   ]
  },
  {
   "cell_type": "code",
   "execution_count": 2,
   "metadata": {},
   "outputs": [
    {
     "name": "stdout",
     "output_type": "stream",
     "text": [
      "0\n",
      "5\n",
      "10\n",
      "15\n",
      "20\n",
      "25\n",
      "26\n",
      "27\n",
      "28\n",
      "29\n"
     ]
    }
   ],
   "source": [
    "def initActiveNodes():\n",
    "    ActiveNodeList = []\n",
    "    for vh in mesh.vertices():\n",
    "        k = vh.idx()\n",
    "        if V[k,0] == 0 or V[k,1] == 1:\n",
    "            ActiveNodeList.append(vh)\n",
    "    return ActiveNodeList\n",
    "\n",
    "ActiveNodeList = initActiveNodes()\n",
    "            \n",
    "for vh in ActiveNodeList:\n",
    "    print(vh.idx())\n"
   ]
  },
  {
   "cell_type": "markdown",
   "metadata": {},
   "source": [
    "Then we have the list of active faces, i.e. faces that are in the queue to calculate the unknowns in the third node, from values given for the other nodes. If all three values in a face are calculated then the corresponding face passes to the list of treated faces, eventually making place for a next face to incorporate.\n",
    "\n",
    "We run over all faces and count for each face the number of active nodes. If there are two active nodes in a face then that face is agregated to the list of active faces."
   ]
  },
  {
   "cell_type": "code",
   "execution_count": 3,
   "metadata": {},
   "outputs": [
    {
     "name": "stdout",
     "output_type": "stream",
     "text": [
      "0  in  0\n",
      "26  in  1\n",
      "25  in  1\n",
      "28  in  4\n",
      "29  in  4\n",
      "5  in  5\n",
      "0  in  5\n",
      "10  in  7\n",
      "5  in  8\n",
      "10  in  8\n",
      "5  in  9\n",
      "15  in  11\n",
      "10  in  11\n",
      "28  in  22\n",
      "27  in  22\n",
      "26  in  35\n",
      "26  in  40\n",
      "27  in  40\n",
      "26  in  42\n",
      "15  in  43\n",
      "29  in  47\n",
      "27  in  52\n",
      "27  in  55\n",
      "28  in  57\n",
      "28  in  60\n",
      "20  in  74\n",
      "25  in  74\n",
      "20  in  75\n",
      "15  in  75\n",
      "20  in  76\n"
     ]
    }
   ],
   "source": [
    "\n",
    "def initActiveFaceList():\n",
    "    ActiveFaceList = []\n",
    "\n",
    "    i=0\n",
    "    for fh in mesh.faces():\n",
    "        counter = 0\n",
    "    \n",
    "        for vh in mesh.fv(fh):\n",
    "            if vh in ActiveNodeList:\n",
    "                print(vh.idx(),' in ', fh.idx())\n",
    "                counter = counter + 1\n",
    "            \n",
    "        if counter == 2:\n",
    "            ActiveFaceList.append(fh)\n",
    "\n",
    "    return ActiveFaceList\n",
    "\n",
    "ActiveFaceList = initActiveFaceList()\n",
    "\n"
   ]
  },
  {
   "cell_type": "markdown",
   "metadata": {},
   "source": [
    "Checking whether the generated gives the correct values of the sample mesh, it seems that the active faces are identified correctly."
   ]
  },
  {
   "cell_type": "code",
   "execution_count": 4,
   "metadata": {},
   "outputs": [
    {
     "name": "stdout",
     "output_type": "stream",
     "text": [
      "1\n",
      "4\n",
      "5\n",
      "8\n",
      "11\n",
      "22\n",
      "40\n",
      "74\n",
      "75\n"
     ]
    }
   ],
   "source": [
    "for fh in ActiveFaceList:\n",
    "    print(fh.idx())"
   ]
  },
  {
   "cell_type": "markdown",
   "metadata": {},
   "source": [
    "\n"
   ]
  },
  {
   "cell_type": "markdown",
   "metadata": {},
   "source": [
    "We need to assign the boundary condition at these initially active nodes. Eventually the nodes should be organized within a class as data structure, where each node has corresponding variables assigned. Alternatively we create an array of the same length of the total node number.\n",
    "\n"
   ]
  },
  {
   "cell_type": "code",
   "execution_count": 5,
   "metadata": {},
   "outputs": [],
   "source": [
    "def init_TS():\n",
    "    T = np.zeros(len(V))+7\n",
    "    S = np.zeros(len(V))+7\n",
    "\n",
    "    for vh in ActiveNodeList:    \n",
    "        k = vh.idx()\n",
    "        if V[k,0] == 0:\n",
    "            T[k] = 0\n",
    "            S[k] = 0\n",
    "        elif V[k,1] == 1:\n",
    "            T[k] = V[k,0]\n",
    "            S[k] = 0\n",
    "    \n",
    "    return T, S\n",
    "\n"
   ]
  },
  {
   "cell_type": "markdown",
   "metadata": {},
   "source": [
    "Some display of the variables, that might be needed for a later debugging."
   ]
  },
  {
   "cell_type": "code",
   "execution_count": 6,
   "metadata": {},
   "outputs": [
    {
     "data": {
      "text/plain": [
       "array([[ 0.,  0.,  0.],\n",
       "       [ 1.,  7.,  7.],\n",
       "       [ 2.,  7.,  7.],\n",
       "       [ 3.,  7.,  7.],\n",
       "       [ 4.,  7.,  7.],\n",
       "       [ 5.,  0.,  0.],\n",
       "       [ 6.,  7.,  7.],\n",
       "       [ 7.,  7.,  7.],\n",
       "       [ 8.,  7.,  7.],\n",
       "       [ 9.,  7.,  7.],\n",
       "       [10.,  0.,  0.],\n",
       "       [11.,  7.,  7.],\n",
       "       [12.,  7.,  7.],\n",
       "       [13.,  7.,  7.],\n",
       "       [14.,  7.,  7.],\n",
       "       [15.,  0.,  0.],\n",
       "       [16.,  7.,  7.],\n",
       "       [17.,  7.,  7.],\n",
       "       [18.,  7.,  7.],\n",
       "       [19.,  7.,  7.],\n",
       "       [20.,  0.,  0.],\n",
       "       [21.,  7.,  7.],\n",
       "       [22.,  7.,  7.],\n",
       "       [23.,  7.,  7.],\n",
       "       [24.,  7.,  7.],\n",
       "       [25.,  0.,  0.],\n",
       "       [26.,  1.,  0.],\n",
       "       [27.,  2.,  0.],\n",
       "       [28.,  3.,  0.],\n",
       "       [29.,  4.,  0.],\n",
       "       [30.,  7.,  7.],\n",
       "       [31.,  7.,  7.],\n",
       "       [32.,  7.,  7.],\n",
       "       [33.,  7.,  7.],\n",
       "       [34.,  7.,  7.],\n",
       "       [35.,  7.,  7.],\n",
       "       [36.,  7.,  7.],\n",
       "       [37.,  7.,  7.],\n",
       "       [38.,  7.,  7.],\n",
       "       [39.,  7.,  7.],\n",
       "       [40.,  7.,  7.],\n",
       "       [41.,  7.,  7.],\n",
       "       [42.,  7.,  7.],\n",
       "       [43.,  7.,  7.],\n",
       "       [44.,  7.,  7.],\n",
       "       [45.,  7.,  7.],\n",
       "       [46.,  7.,  7.],\n",
       "       [47.,  7.,  7.],\n",
       "       [48.,  7.,  7.],\n",
       "       [49.,  7.,  7.]])"
      ]
     },
     "execution_count": 6,
     "metadata": {},
     "output_type": "execute_result"
    }
   ],
   "source": [
    "T, S = init_TS()\n",
    "I = range(len(V))\n",
    "Z=np.vstack([I,T,S])\n",
    "Z.transpose()"
   ]
  },
  {
   "cell_type": "markdown",
   "metadata": {},
   "source": [
    "Each face should have a priority of handling, which corresponds to the assigned time in terms\n",
    "of the averaged $T$ - values of the two incoming nodes\n",
    "\\begin{align*}\n",
    "    T_{ABC} = \\frac{T_A + T_B}{2}\n",
    "\\end{align*}\n",
    "Therefore we generate arrays that contain predictive $T$ and $S$ values for each face. The values are predictive as they are replaced with calculated values as soon as the equations of the corresponding face are solved."
   ]
  },
  {
   "cell_type": "code",
   "execution_count": 7,
   "metadata": {},
   "outputs": [],
   "source": [
    "\n",
    "Tf = np.zeros(len(mesh.faces()))+7\n",
    "Sf = np.zeros(len(mesh.faces()))+7\n",
    "\n",
    "for fh in ActiveFaceList:\n",
    "    T_ABC = 0\n",
    "    S_ABC = 0\n",
    "    counter = 0\n",
    "    for vh in mesh.fv(fh):\n",
    "        if vh in ActiveNodeList:\n",
    "            T_ABC = T_ABC + T[vh.idx()]\n",
    "            S_ABC = S_ABC + S[vh.idx()]            \n",
    "            counter = counter + 1\n",
    "            \n",
    "    if counter != 2:\n",
    "        print('ERR at face', fh.idx())\n",
    "    else:\n",
    "        Tf[fh.idx()] = T_ABC / 2\n",
    "        Sf[fh.idx()] = S_ABC / 2\n",
    "        \n",
    "        "
   ]
  },
  {
   "cell_type": "markdown",
   "metadata": {},
   "source": [
    "Some output for an eventual manual checking of values, eventually lateron as the algorithm proceeds."
   ]
  },
  {
   "cell_type": "code",
   "execution_count": 8,
   "metadata": {},
   "outputs": [
    {
     "data": {
      "text/plain": [
       "array([[ 0. ,  7. ,  7. ],\n",
       "       [ 1. ,  0.5,  0. ],\n",
       "       [ 2. ,  7. ,  7. ],\n",
       "       [ 3. ,  7. ,  7. ],\n",
       "       [ 4. ,  3.5,  0. ],\n",
       "       [ 5. ,  0. ,  0. ],\n",
       "       [ 6. ,  7. ,  7. ],\n",
       "       [ 7. ,  7. ,  7. ],\n",
       "       [ 8. ,  0. ,  0. ],\n",
       "       [ 9. ,  7. ,  7. ],\n",
       "       [10. ,  7. ,  7. ],\n",
       "       [11. ,  0. ,  0. ],\n",
       "       [12. ,  7. ,  7. ],\n",
       "       [13. ,  7. ,  7. ],\n",
       "       [14. ,  7. ,  7. ],\n",
       "       [15. ,  7. ,  7. ],\n",
       "       [16. ,  7. ,  7. ],\n",
       "       [17. ,  7. ,  7. ],\n",
       "       [18. ,  7. ,  7. ],\n",
       "       [19. ,  7. ,  7. ],\n",
       "       [20. ,  7. ,  7. ],\n",
       "       [21. ,  7. ,  7. ],\n",
       "       [22. ,  2.5,  0. ],\n",
       "       [23. ,  7. ,  7. ],\n",
       "       [24. ,  7. ,  7. ],\n",
       "       [25. ,  7. ,  7. ],\n",
       "       [26. ,  7. ,  7. ],\n",
       "       [27. ,  7. ,  7. ],\n",
       "       [28. ,  7. ,  7. ],\n",
       "       [29. ,  7. ,  7. ],\n",
       "       [30. ,  7. ,  7. ],\n",
       "       [31. ,  7. ,  7. ],\n",
       "       [32. ,  7. ,  7. ],\n",
       "       [33. ,  7. ,  7. ],\n",
       "       [34. ,  7. ,  7. ],\n",
       "       [35. ,  7. ,  7. ],\n",
       "       [36. ,  7. ,  7. ],\n",
       "       [37. ,  7. ,  7. ],\n",
       "       [38. ,  7. ,  7. ],\n",
       "       [39. ,  7. ,  7. ],\n",
       "       [40. ,  1.5,  0. ],\n",
       "       [41. ,  7. ,  7. ],\n",
       "       [42. ,  7. ,  7. ],\n",
       "       [43. ,  7. ,  7. ],\n",
       "       [44. ,  7. ,  7. ],\n",
       "       [45. ,  7. ,  7. ],\n",
       "       [46. ,  7. ,  7. ],\n",
       "       [47. ,  7. ,  7. ],\n",
       "       [48. ,  7. ,  7. ],\n",
       "       [49. ,  7. ,  7. ],\n",
       "       [50. ,  7. ,  7. ],\n",
       "       [51. ,  7. ,  7. ],\n",
       "       [52. ,  7. ,  7. ],\n",
       "       [53. ,  7. ,  7. ],\n",
       "       [54. ,  7. ,  7. ],\n",
       "       [55. ,  7. ,  7. ],\n",
       "       [56. ,  7. ,  7. ],\n",
       "       [57. ,  7. ,  7. ],\n",
       "       [58. ,  7. ,  7. ],\n",
       "       [59. ,  7. ,  7. ],\n",
       "       [60. ,  7. ,  7. ],\n",
       "       [61. ,  7. ,  7. ],\n",
       "       [62. ,  7. ,  7. ],\n",
       "       [63. ,  7. ,  7. ],\n",
       "       [64. ,  7. ,  7. ],\n",
       "       [65. ,  7. ,  7. ],\n",
       "       [66. ,  7. ,  7. ],\n",
       "       [67. ,  7. ,  7. ],\n",
       "       [68. ,  7. ,  7. ],\n",
       "       [69. ,  7. ,  7. ],\n",
       "       [70. ,  7. ,  7. ],\n",
       "       [71. ,  7. ,  7. ],\n",
       "       [72. ,  7. ,  7. ],\n",
       "       [73. ,  7. ,  7. ],\n",
       "       [74. ,  0. ,  0. ],\n",
       "       [75. ,  0. ,  0. ],\n",
       "       [76. ,  7. ,  7. ],\n",
       "       [77. ,  7. ,  7. ],\n",
       "       [78. ,  7. ,  7. ],\n",
       "       [79. ,  7. ,  7. ]])"
      ]
     },
     "execution_count": 8,
     "metadata": {},
     "output_type": "execute_result"
    }
   ],
   "source": [
    "I = range(len(Tf))\n",
    "Z=np.vstack([I,Tf,Sf])\n",
    "Z.transpose()"
   ]
  },
  {
   "cell_type": "markdown",
   "metadata": {},
   "source": [
    "The purpose of this asignation of values to each face is to know which is next to deal with. So, the indices are sorted to access to increasing $T$ values, which permits an access to the smallest values."
   ]
  },
  {
   "cell_type": "code",
   "execution_count": 9,
   "metadata": {},
   "outputs": [
    {
     "data": {
      "text/plain": [
       "array([[ 5. ,  0. ,  0. ],\n",
       "       [75. ,  0. ,  0. ],\n",
       "       [74. ,  0. ,  0. ],\n",
       "       [ 8. ,  0. ,  0. ],\n",
       "       [11. ,  0. ,  0. ],\n",
       "       [ 1. ,  0.5,  0. ],\n",
       "       [40. ,  1.5,  0. ],\n",
       "       [22. ,  2.5,  0. ],\n",
       "       [ 4. ,  3.5,  0. ],\n",
       "       [ 0. ,  7. ,  7. ],\n",
       "       [57. ,  7. ,  7. ],\n",
       "       [56. ,  7. ,  7. ],\n",
       "       [55. ,  7. ,  7. ],\n",
       "       [54. ,  7. ,  7. ],\n",
       "       [53. ,  7. ,  7. ],\n",
       "       [52. ,  7. ,  7. ],\n",
       "       [48. ,  7. ,  7. ],\n",
       "       [50. ,  7. ,  7. ],\n",
       "       [49. ,  7. ,  7. ],\n",
       "       [58. ,  7. ,  7. ],\n",
       "       [47. ,  7. ,  7. ],\n",
       "       [46. ,  7. ,  7. ],\n",
       "       [45. ,  7. ,  7. ],\n",
       "       [51. ,  7. ,  7. ],\n",
       "       [59. ,  7. ,  7. ],\n",
       "       [62. ,  7. ,  7. ],\n",
       "       [61. ,  7. ,  7. ],\n",
       "       [77. ,  7. ,  7. ],\n",
       "       [76. ,  7. ,  7. ],\n",
       "       [73. ,  7. ,  7. ],\n",
       "       [72. ,  7. ,  7. ],\n",
       "       [71. ,  7. ,  7. ],\n",
       "       [70. ,  7. ,  7. ],\n",
       "       [60. ,  7. ,  7. ],\n",
       "       [69. ,  7. ,  7. ],\n",
       "       [67. ,  7. ,  7. ],\n",
       "       [66. ,  7. ,  7. ],\n",
       "       [65. ,  7. ,  7. ],\n",
       "       [64. ,  7. ,  7. ],\n",
       "       [63. ,  7. ,  7. ],\n",
       "       [44. ,  7. ,  7. ],\n",
       "       [68. ,  7. ,  7. ],\n",
       "       [43. ,  7. ,  7. ],\n",
       "       [39. ,  7. ,  7. ],\n",
       "       [41. ,  7. ,  7. ],\n",
       "       [19. ,  7. ,  7. ],\n",
       "       [18. ,  7. ,  7. ],\n",
       "       [17. ,  7. ,  7. ],\n",
       "       [16. ,  7. ,  7. ],\n",
       "       [15. ,  7. ,  7. ],\n",
       "       [14. ,  7. ,  7. ],\n",
       "       [20. ,  7. ,  7. ],\n",
       "       [13. ,  7. ,  7. ],\n",
       "       [10. ,  7. ,  7. ],\n",
       "       [ 9. ,  7. ,  7. ],\n",
       "       [ 7. ,  7. ,  7. ],\n",
       "       [ 6. ,  7. ,  7. ],\n",
       "       [ 3. ,  7. ,  7. ],\n",
       "       [ 2. ,  7. ,  7. ],\n",
       "       [12. ,  7. ,  7. ],\n",
       "       [21. ,  7. ,  7. ],\n",
       "       [23. ,  7. ,  7. ],\n",
       "       [24. ,  7. ,  7. ],\n",
       "       [78. ,  7. ,  7. ],\n",
       "       [38. ,  7. ,  7. ],\n",
       "       [37. ,  7. ,  7. ],\n",
       "       [36. ,  7. ,  7. ],\n",
       "       [35. ,  7. ,  7. ],\n",
       "       [34. ,  7. ,  7. ],\n",
       "       [33. ,  7. ,  7. ],\n",
       "       [32. ,  7. ,  7. ],\n",
       "       [31. ,  7. ,  7. ],\n",
       "       [30. ,  7. ,  7. ],\n",
       "       [29. ,  7. ,  7. ],\n",
       "       [28. ,  7. ,  7. ],\n",
       "       [27. ,  7. ,  7. ],\n",
       "       [26. ,  7. ,  7. ],\n",
       "       [25. ,  7. ,  7. ],\n",
       "       [42. ,  7. ,  7. ],\n",
       "       [79. ,  7. ,  7. ]])"
      ]
     },
     "execution_count": 9,
     "metadata": {},
     "output_type": "execute_result"
    }
   ],
   "source": [
    "If = np.argsort(Tf, axis=0)\n",
    "Z = np.vstack([If,Tf[If],Sf[If]])\n",
    "Z.transpose()"
   ]
  },
  {
   "cell_type": "markdown",
   "metadata": {},
   "source": [
    "Actually our focus is on the active faces, so we need to get the indices of them."
   ]
  },
  {
   "cell_type": "code",
   "execution_count": 10,
   "metadata": {},
   "outputs": [
    {
     "name": "stdout",
     "output_type": "stream",
     "text": [
      "active faces: [1, 4, 5, 8, 11, 22, 40, 74, 75]\n"
     ]
    }
   ],
   "source": [
    "def getActiveFaceIndices():\n",
    "    I_list = []\n",
    "    for fh in ActiveFaceList:\n",
    "        I_list.append(fh.idx())\n",
    "        \n",
    "    return I_list\n",
    "\n",
    "def printActiveFaceIndices():\n",
    "    I_active_faces = getActiveFaceIndices()\n",
    "    print('active faces:', I_active_faces)\n",
    "    \n",
    "printActiveFaceIndices()\n"
   ]
  },
  {
   "cell_type": "code",
   "execution_count": null,
   "metadata": {},
   "outputs": [],
   "source": []
  },
  {
   "cell_type": "markdown",
   "metadata": {},
   "source": [
    "We can focus the sorting of who comes next within this list of active faces.\n",
    "\n",
    "So, taking the list of active faces, we sort the elements within this list, by an internal permutation index $K$, such that the active elements on the global list are identified in their identified order by $I[K]$.\n"
   ]
  },
  {
   "cell_type": "code",
   "execution_count": 11,
   "metadata": {},
   "outputs": [
    {
     "data": {
      "text/plain": [
       "array([[ 5. ,  0. ,  0. ],\n",
       "       [ 8. ,  0. ,  0. ],\n",
       "       [11. ,  0. ,  0. ],\n",
       "       [74. ,  0. ,  0. ],\n",
       "       [75. ,  0. ,  0. ],\n",
       "       [ 1. ,  0.5,  0. ],\n",
       "       [40. ,  1.5,  0. ],\n",
       "       [22. ,  2.5,  0. ],\n",
       "       [ 4. ,  3.5,  0. ]])"
      ]
     },
     "execution_count": 11,
     "metadata": {},
     "output_type": "execute_result"
    }
   ],
   "source": [
    "I_active_faces = getActiveFaceIndices()\n",
    "I = np.array(I_active_faces)\n",
    "K = np.argsort(Tf[I], axis=0)\n",
    "\n",
    "Z = np.vstack([I[K],Tf[I[K]],Sf[I[K]]])\n",
    "Z.transpose()"
   ]
  },
  {
   "cell_type": "markdown",
   "metadata": {},
   "source": [
    "Now we are in the starting position of the iteration that goes through all faces. Taking the next face, the values of the remaining node are calculated. In a dummy calculation one might just set a value like\n",
    "\\begin{align*}\n",
    "    T_{C} = \\frac{T_A + T_B}{2} + 1 .\n",
    "\\end{align*}\n",
    "Such a dummy calculation helps traverse the overall mesh focusing on the propagation mecanism.\n"
   ]
  },
  {
   "cell_type": "code",
   "execution_count": 12,
   "metadata": {},
   "outputs": [
    {
     "name": "stdout",
     "output_type": "stream",
     "text": [
      "5.4\n"
     ]
    }
   ],
   "source": [
    "def get_T_C_dummy(T_A, T_B):\n",
    "        \n",
    "    return (T_A + T_B)/2+1\n",
    "    \n",
    "T_C = get_T_C_dummy(3.3, 5.5)\n",
    "print(T_C)"
   ]
  },
  {
   "cell_type": "markdown",
   "metadata": {},
   "source": [
    "So, the procedure in a loop cycle is to (1) obtain the id of the next face, (2) calculate the value of the outgoing vertex, and (3) handle the list of active faces, i. e. (3a) remove the processed face from the list, and (3b) agregate new faces to the list. These new faces are those faces at the now new ingoing nodes, as long as these faces are not yet processed or are not already in the list. Eventually, one might want to access to the ingoing and outgoing nodes of a faces by a corresponding data structure. Otherwise one need to identify the node characteristics inline.\n",
    "\n",
    "So, a first step is distinguish the ingoing and outgoing nodes of an active face."
   ]
  },
  {
   "cell_type": "code",
   "execution_count": 13,
   "metadata": {},
   "outputs": [
    {
     "name": "stdout",
     "output_type": "stream",
     "text": [
      "next face id: 5\n",
      "30 outgoing\n",
      "5 ingoing\n",
      "0 ingoing\n",
      "active faces: [1, 4, 5, 8, 11, 22, 40, 74, 75]\n"
     ]
    }
   ],
   "source": [
    "ProcessedFaceList = []\n",
    "\n",
    "# (1) obtain id of next face\n",
    "next_face_id = (I[K])[0]\n",
    "print('next face id:', next_face_id)\n",
    "fh = mesh.face_handle(next_face_id)\n",
    "\n",
    "# (2) calculate value of outgoing vertex\n",
    "counter = 0\n",
    "for vh in mesh.fv(fh):\n",
    "    if vh in ActiveNodeList:\n",
    "        print(vh.idx(),'ingoing')\n",
    "        if counter == 0:\n",
    "            T_A = T[vh.idx()]\n",
    "        elif counter == 1:\n",
    "            T_B = T[vh.idx()]\n",
    "        else:\n",
    "            print('ERR: too many ingoing nodes')\n",
    "            \n",
    "        counter = counter + 1\n",
    "    else:\n",
    "        print(vh.idx(),'outgoing')        \n",
    "        id_C = vh.idx()\n",
    "        \n",
    "if counter == 2:\n",
    "    T_C = get_T_C_dummy(T_A, T_B)\n",
    "else:\n",
    "    print('ERR: missing inputs for calculating T_C')\n",
    "    \n",
    "    \n",
    "# ActiveFaceList.remove(fh)\n",
    "ProcessedFaceList.append(fh)\n",
    "\n",
    "printActiveFaceIndices()\n",
    "for ffh in mesh.ff(fh):\n",
    "    if (not ffh in ActiveFaceList) and (not ffh in ProcessedFaceList):\n",
    "        # print(ffh.idx())\n",
    "        ActiveFaceList.append(ffh)\n"
   ]
  },
  {
   "cell_type": "markdown",
   "metadata": {},
   "source": [
    "One exercise is to traverse the overall mesh just by starting with the face, and iteratively passing through the next faces, without recurring to $T-$order criterium."
   ]
  },
  {
   "cell_type": "code",
   "execution_count": 14,
   "metadata": {},
   "outputs": [
    {
     "name": "stdout",
     "output_type": "stream",
     "text": [
      "11 :  [1, 4, 5, 8, 11, 22, 40, 74, 75, 0, 9]\n",
      "11 :  [4, 5, 8, 11, 22, 40, 74, 75, 0, 9, 35]\n",
      "12 :  [5, 8, 11, 22, 40, 74, 75, 0, 9, 35, 60, 47]\n",
      "11 :  [8, 11, 22, 40, 74, 75, 0, 9, 35, 60, 47]\n",
      "11 :  [11, 22, 40, 74, 75, 0, 9, 35, 60, 47, 7]\n",
      "11 :  [22, 40, 74, 75, 0, 9, 35, 60, 47, 7, 43]\n",
      "12 :  [40, 74, 75, 0, 9, 35, 60, 47, 7, 43, 52, 57]\n",
      "13 :  [74, 75, 0, 9, 35, 60, 47, 7, 43, 52, 57, 42, 55]\n",
      "13 :  [75, 0, 9, 35, 60, 47, 7, 43, 52, 57, 42, 55, 76]\n",
      "12 :  [0, 9, 35, 60, 47, 7, 43, 52, 57, 42, 55, 76]\n",
      "12 :  [9, 35, 60, 47, 7, 43, 52, 57, 42, 55, 76, 32]\n",
      "12 :  [35, 60, 47, 7, 43, 52, 57, 42, 55, 76, 32, 33]\n",
      "12 :  [60, 47, 7, 43, 52, 57, 42, 55, 76, 32, 33, 44]\n",
      "12 :  [47, 7, 43, 52, 57, 42, 55, 76, 32, 33, 44, 59]\n",
      "12 :  [7, 43, 52, 57, 42, 55, 76, 32, 33, 44, 59, 48]\n",
      "12 :  [43, 52, 57, 42, 55, 76, 32, 33, 44, 59, 48, 6]\n",
      "12 :  [52, 57, 42, 55, 76, 32, 33, 44, 59, 48, 6, 73]\n",
      "12 :  [57, 42, 55, 76, 32, 33, 44, 59, 48, 6, 73, 51]\n",
      "12 :  [42, 55, 76, 32, 33, 44, 59, 48, 6, 73, 51, 56]\n",
      "12 :  [55, 76, 32, 33, 44, 59, 48, 6, 73, 51, 56, 41]\n",
      "12 :  [76, 32, 33, 44, 59, 48, 6, 73, 51, 56, 41, 54]\n",
      "11 :  [32, 33, 44, 59, 48, 6, 73, 51, 56, 41, 54]\n",
      "11 :  [33, 44, 59, 48, 6, 73, 51, 56, 41, 54, 31]\n",
      "11 :  [44, 59, 48, 6, 73, 51, 56, 41, 54, 31, 34]\n",
      "11 :  [59, 48, 6, 73, 51, 56, 41, 54, 31, 34, 72]\n",
      "11 :  [48, 6, 73, 51, 56, 41, 54, 31, 34, 72, 61]\n",
      "11 :  [6, 73, 51, 56, 41, 54, 31, 34, 72, 61, 49]\n",
      "11 :  [73, 51, 56, 41, 54, 31, 34, 72, 61, 49, 71]\n",
      "10 :  [51, 56, 41, 54, 31, 34, 72, 61, 49, 71]\n",
      "10 :  [56, 41, 54, 31, 34, 72, 61, 49, 71, 50]\n",
      "10 :  [41, 54, 31, 34, 72, 61, 49, 71, 50, 58]\n",
      "10 :  [54, 31, 34, 72, 61, 49, 71, 50, 58, 68]\n",
      "10 :  [31, 34, 72, 61, 49, 71, 50, 58, 68, 53]\n",
      "11 :  [34, 72, 61, 49, 71, 50, 58, 68, 53, 10, 29]\n",
      "11 :  [72, 61, 49, 71, 50, 58, 68, 53, 10, 29, 30]\n",
      "10 :  [61, 49, 71, 50, 58, 68, 53, 10, 29, 30]\n",
      "10 :  [49, 71, 50, 58, 68, 53, 10, 29, 30, 24]\n",
      "10 :  [71, 50, 58, 68, 53, 10, 29, 30, 24, 21]\n",
      "10 :  [50, 58, 68, 53, 10, 29, 30, 24, 21, 70]\n",
      "10 :  [58, 68, 53, 10, 29, 30, 24, 21, 70, 66]\n",
      "10 :  [68, 53, 10, 29, 30, 24, 21, 70, 66, 62]\n",
      "10 :  [53, 10, 29, 30, 24, 21, 70, 66, 62, 69]\n",
      "10 :  [10, 29, 30, 24, 21, 70, 66, 62, 69, 38]\n",
      "10 :  [29, 30, 24, 21, 70, 66, 62, 69, 38, 16]\n",
      "10 :  [30, 24, 21, 70, 66, 62, 69, 38, 16, 15]\n",
      "10 :  [24, 21, 70, 66, 62, 69, 38, 16, 15, 36]\n",
      "10 :  [21, 70, 66, 62, 69, 38, 16, 15, 36, 23]\n",
      "10 :  [70, 66, 62, 69, 38, 16, 15, 36, 23, 45]\n",
      "9 :  [66, 62, 69, 38, 16, 15, 36, 23, 45]\n",
      "9 :  [62, 69, 38, 16, 15, 36, 23, 45, 65]\n",
      "9 :  [69, 38, 16, 15, 36, 23, 45, 65, 63]\n",
      "8 :  [38, 16, 15, 36, 23, 45, 65, 63]\n",
      "8 :  [16, 15, 36, 23, 45, 65, 63, 39]\n",
      "8 :  [15, 36, 23, 45, 65, 63, 39, 13]\n",
      "8 :  [36, 23, 45, 65, 63, 39, 13, 14]\n",
      "8 :  [23, 45, 65, 63, 39, 13, 14, 37]\n",
      "8 :  [45, 65, 63, 39, 13, 14, 37, 12]\n",
      "8 :  [65, 63, 39, 13, 14, 37, 12, 46]\n",
      "8 :  [63, 39, 13, 14, 37, 12, 46, 67]\n",
      "8 :  [39, 13, 14, 37, 12, 46, 67, 64]\n",
      "7 :  [13, 14, 37, 12, 46, 67, 64]\n",
      "8 :  [14, 37, 12, 46, 67, 64, 3, 28]\n",
      "8 :  [37, 12, 46, 67, 64, 3, 28, 27]\n",
      "7 :  [12, 46, 67, 64, 3, 28, 27]\n",
      "7 :  [46, 67, 64, 3, 28, 27, 20]\n",
      "7 :  [67, 64, 3, 28, 27, 20, 79]\n",
      "6 :  [64, 3, 28, 27, 20, 79]\n",
      "6 :  [3, 28, 27, 20, 79, 25]\n",
      "6 :  [28, 27, 20, 79, 25, 17]\n",
      "6 :  [27, 20, 79, 25, 17, 26]\n",
      "5 :  [20, 79, 25, 17, 26]\n",
      "5 :  [79, 25, 17, 26, 19]\n",
      "5 :  [25, 17, 26, 19, 78]\n",
      "4 :  [17, 26, 19, 78]\n",
      "4 :  [26, 19, 78, 18]\n",
      "3 :  [19, 78, 18]\n",
      "2 :  [78, 18]\n",
      "2 :  [18, 77]\n",
      "2 :  [77, 2]\n",
      "1 :  [2]\n"
     ]
    }
   ],
   "source": [
    "while len(ActiveFaceList)>0:\n",
    "    I_active = getActiveFaceIndices()\n",
    "    print(len(I_active),': ',I_active)\n",
    "    next_face_id = I_active[0]\n",
    "    fh = mesh.face_handle(next_face_id)\n",
    "    \n",
    "    ActiveFaceList.remove(fh)\n",
    "    ProcessedFaceList.append(fh)\n",
    "\n",
    "    # printActiveFaceIndices()\n",
    "    for ffh in mesh.ff(fh):\n",
    "        if (not ffh in ActiveFaceList) and (not ffh in ProcessedFaceList):\n",
    "            ActiveFaceList.append(ffh)"
   ]
  },
  {
   "cell_type": "markdown",
   "metadata": {},
   "source": [
    "This procedure can be represented also by the list of processed faces, which was generated all over the process."
   ]
  },
  {
   "cell_type": "code",
   "execution_count": 15,
   "metadata": {},
   "outputs": [
    {
     "name": "stdout",
     "output_type": "stream",
     "text": [
      "processed faces: [5, 1, 4, 5, 8, 11, 22, 40, 74, 75, 0, 9, 35, 60, 47, 7, 43, 52, 57, 42, 55, 76, 32, 33, 44, 59, 48, 6, 73, 51, 56, 41, 54, 31, 34, 72, 61, 49, 71, 50, 58, 68, 53, 10, 29, 30, 24, 21, 70, 66, 62, 69, 38, 16, 15, 36, 23, 45, 65, 63, 39, 13, 14, 37, 12, 46, 67, 64, 3, 28, 27, 20, 79, 25, 17, 26, 19, 78, 18, 77, 2]\n",
      "check completeness: [ 0  1  2  3  4  5  5  6  7  8  9 10 11 12 13 14 15 16 17 18 19 20 21 22\n",
      " 23 24 25 26 27 28 29 30 31 32 33 34 35 36 37 38 39 40 41 42 43 44 45 46\n",
      " 47 48 49 50 51 52 53 54 55 56 57 58 59 60 61 62 63 64 65 66 67 68 69 70\n",
      " 71 72 73 74 75 76 77 78 79]\n"
     ]
    }
   ],
   "source": [
    "def getProcessedFaceIndices():\n",
    "    I_list = []\n",
    "    for fh in ProcessedFaceList:\n",
    "        I_list.append(fh.idx())\n",
    "        \n",
    "    return I_list\n",
    "\n",
    "def printProcessedFaceIndices():\n",
    "    I_faces = getProcessedFaceIndices()\n",
    "    print('processed faces:', I_faces)\n",
    "    \n",
    "printProcessedFaceIndices()   \n",
    "\n",
    "I_faces = getProcessedFaceIndices()\n",
    "print('check completeness:', np.sort(I_faces))"
   ]
  },
  {
   "cell_type": "code",
   "execution_count": null,
   "metadata": {},
   "outputs": [],
   "source": []
  },
  {
   "cell_type": "code",
   "execution_count": null,
   "metadata": {},
   "outputs": [],
   "source": []
  },
  {
   "cell_type": "code",
   "execution_count": null,
   "metadata": {},
   "outputs": [],
   "source": []
  },
  {
   "cell_type": "code",
   "execution_count": null,
   "metadata": {},
   "outputs": [],
   "source": [
    "\n",
    "    "
   ]
  },
  {
   "cell_type": "code",
   "execution_count": null,
   "metadata": {},
   "outputs": [],
   "source": []
  },
  {
   "cell_type": "code",
   "execution_count": null,
   "metadata": {},
   "outputs": [],
   "source": []
  },
  {
   "cell_type": "code",
   "execution_count": null,
   "metadata": {},
   "outputs": [],
   "source": []
  },
  {
   "cell_type": "code",
   "execution_count": null,
   "metadata": {},
   "outputs": [],
   "source": []
  },
  {
   "cell_type": "code",
   "execution_count": null,
   "metadata": {},
   "outputs": [],
   "source": []
  },
  {
   "cell_type": "code",
   "execution_count": null,
   "metadata": {},
   "outputs": [],
   "source": []
  },
  {
   "cell_type": "code",
   "execution_count": null,
   "metadata": {},
   "outputs": [],
   "source": []
  },
  {
   "cell_type": "code",
   "execution_count": null,
   "metadata": {},
   "outputs": [],
   "source": []
  },
  {
   "cell_type": "code",
   "execution_count": null,
   "metadata": {},
   "outputs": [],
   "source": []
  },
  {
   "cell_type": "code",
   "execution_count": null,
   "metadata": {},
   "outputs": [],
   "source": []
  },
  {
   "cell_type": "code",
   "execution_count": null,
   "metadata": {},
   "outputs": [],
   "source": []
  },
  {
   "cell_type": "code",
   "execution_count": null,
   "metadata": {},
   "outputs": [],
   "source": []
  },
  {
   "cell_type": "code",
   "execution_count": null,
   "metadata": {},
   "outputs": [],
   "source": []
  },
  {
   "cell_type": "code",
   "execution_count": null,
   "metadata": {},
   "outputs": [],
   "source": []
  },
  {
   "cell_type": "code",
   "execution_count": null,
   "metadata": {},
   "outputs": [],
   "source": []
  },
  {
   "cell_type": "code",
   "execution_count": null,
   "metadata": {},
   "outputs": [],
   "source": []
  },
  {
   "cell_type": "code",
   "execution_count": null,
   "metadata": {},
   "outputs": [],
   "source": []
  },
  {
   "cell_type": "code",
   "execution_count": null,
   "metadata": {},
   "outputs": [],
   "source": []
  },
  {
   "cell_type": "markdown",
   "metadata": {},
   "source": [
    "## Class of nodes\n",
    "We define a class of nodes that represent the main geometrical components.\n"
   ]
  },
  {
   "cell_type": "code",
   "execution_count": null,
   "metadata": {},
   "outputs": [],
   "source": []
  },
  {
   "cell_type": "code",
   "execution_count": null,
   "metadata": {},
   "outputs": [],
   "source": []
  },
  {
   "cell_type": "markdown",
   "metadata": {},
   "source": [
    "## List of faces\n",
    "We operate on a list of faces that track, that priorizes in which direction to advances, by evaluating (1) whether already two points are calculated and (2) whether the causality condition is satisfied.\n",
    "\n",
    "It also reports whether the overall procedure gets stuckº"
   ]
  },
  {
   "cell_type": "code",
   "execution_count": null,
   "metadata": {},
   "outputs": [],
   "source": []
  },
  {
   "cell_type": "code",
   "execution_count": null,
   "metadata": {},
   "outputs": [],
   "source": []
  },
  {
   "cell_type": "code",
   "execution_count": null,
   "metadata": {},
   "outputs": [],
   "source": []
  },
  {
   "cell_type": "markdown",
   "metadata": {},
   "source": [
    "## Managing lists"
   ]
  },
  {
   "cell_type": "code",
   "execution_count": 16,
   "metadata": {},
   "outputs": [
    {
     "name": "stdout",
     "output_type": "stream",
     "text": [
      "[2, 4, 19, 9, 5]\n"
     ]
    }
   ],
   "source": [
    "myList = [2, 4, 10, 19, 9];\n",
    "myList.remove(10);\n",
    "myList.append(5)\n",
    "print(myList);"
   ]
  },
  {
   "cell_type": "code",
   "execution_count": null,
   "metadata": {},
   "outputs": [],
   "source": []
  },
  {
   "cell_type": "code",
   "execution_count": null,
   "metadata": {},
   "outputs": [],
   "source": []
  }
 ],
 "metadata": {
  "kernelspec": {
   "display_name": "Python 3",
   "language": "python",
   "name": "python3"
  },
  "language_info": {
   "codemirror_mode": {
    "name": "ipython",
    "version": 3
   },
   "file_extension": ".py",
   "mimetype": "text/x-python",
   "name": "python",
   "nbconvert_exporter": "python",
   "pygments_lexer": "ipython3",
   "version": "3.7.6"
  }
 },
 "nbformat": 4,
 "nbformat_minor": 4
}
