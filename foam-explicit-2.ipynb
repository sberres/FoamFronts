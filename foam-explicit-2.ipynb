{
 "cells": [
  {
   "cell_type": "markdown",
   "metadata": {},
   "source": [
    "Given that the mechanism traverses the complete mesh, we now make it sensible to the order of $T$.\n",
    "\n"
   ]
  },
  {
   "cell_type": "code",
   "execution_count": 16,
   "metadata": {},
   "outputs": [],
   "source": [
    "import openmesh as om\n",
    "import numpy as np\n",
    "import matplotlib.pyplot as plt\n",
    "\n",
    "mesh = om.read_trimesh('T4.off')\n",
    "V=mesh.points()\n",
    "X=V[:,0]\n",
    "Y=V[:,1]"
   ]
  },
  {
   "cell_type": "markdown",
   "metadata": {},
   "source": [
    "Initialize \n",
    "* active nodes\n",
    "* active face list\n",
    "* $T$ & $S$ values: (1) at nodes, and (2) for faces\n"
   ]
  },
  {
   "cell_type": "code",
   "execution_count": 17,
   "metadata": {},
   "outputs": [
    {
     "name": "stdout",
     "output_type": "stream",
     "text": [
      "active faces: [1, 4, 5, 8, 11, 22, 40, 74, 75]\n"
     ]
    }
   ],
   "source": [
    "def initActiveNodes():\n",
    "    ActiveNodeList = []\n",
    "    for vh in mesh.vertices():\n",
    "        k = vh.idx()\n",
    "        if V[k,0] == 0 or V[k,1] == 1:\n",
    "            ActiveNodeList.append(vh)\n",
    "    return ActiveNodeList\n",
    "\n",
    "def initActiveFaceList():\n",
    "    ActiveFaceList = []\n",
    "\n",
    "    i=0\n",
    "    for fh in mesh.faces():\n",
    "        counter = 0\n",
    "    \n",
    "        for vh in mesh.fv(fh):\n",
    "            if vh in ActiveNodeList:\n",
    "                # print(vh.idx(),' in ', fh.idx())                \n",
    "                counter = counter + 1\n",
    "            \n",
    "        if counter == 2:\n",
    "            ActiveFaceList.append(fh)\n",
    "\n",
    "    return ActiveFaceList\n",
    "\n",
    "def init_TS_nodes():\n",
    "    T = np.zeros(len(V))+7\n",
    "    S = np.zeros(len(V))+7\n",
    "\n",
    "    for vh in ActiveNodeList:    \n",
    "        k = vh.idx()\n",
    "        if V[k,0] == 0:\n",
    "            T[k] = 0\n",
    "            S[k] = 0\n",
    "        elif V[k,1] == 1:\n",
    "            T[k] = V[k,0]\n",
    "            S[k] = 0\n",
    "    \n",
    "    return T, S\n",
    "\n",
    "def init_TS_faces():\n",
    "    Tf = np.zeros(len(mesh.faces()))+7\n",
    "    Sf = np.zeros(len(mesh.faces()))+7\n",
    "\n",
    "    for fh in ActiveFaceList:\n",
    "        T_ABC = 0\n",
    "        S_ABC = 0\n",
    "        counter = 0\n",
    "        for vh in mesh.fv(fh):\n",
    "            if vh in ActiveNodeList:\n",
    "                T_ABC = T_ABC + T[vh.idx()]\n",
    "                S_ABC = S_ABC + S[vh.idx()]            \n",
    "                counter = counter + 1\n",
    "            \n",
    "        if counter != 2:\n",
    "            print('ERR at face', fh.idx())\n",
    "        else:\n",
    "            Tf[fh.idx()] = T_ABC / 2\n",
    "            Sf[fh.idx()] = S_ABC / 2\n",
    "            \n",
    "    return Tf, Sf\n",
    "    \n",
    "# routine to get active face indices    \n",
    "def getActiveFaceIndices():\n",
    "    I_list = []\n",
    "    for fh in ActiveFaceList:\n",
    "        I_list.append(fh.idx())\n",
    "        \n",
    "    return I_list\n",
    "\n",
    "    \n",
    "def getActiveNodeIndices():\n",
    "    I_list = []\n",
    "    for fh in ActiveNodeList:\n",
    "        I_list.append(fh.idx())\n",
    "\n",
    "    return I_list\n",
    "\n",
    "\n",
    "def getProcessedFaceIndices():\n",
    "    I_list = []\n",
    "    for fh in ProcessedFaceList:\n",
    "        I_list.append(fh.idx())\n",
    "        \n",
    "    return I_list\n",
    "\n",
    "def getObsoleteFaceIndices():\n",
    "    I_list = []\n",
    "    for fh in ObsoleteFaceList:\n",
    "        I_list.append(fh.idx())\n",
    "        \n",
    "    return I_list\n",
    "\n",
    "def get_T_C_dummy(T_A, T_B):\n",
    "    return (T_A + T_B)/2 + 10\n",
    "\n",
    "# ... update faces: don inline    \n",
    "\n",
    "\n",
    "\n",
    "ActiveNodeList = initActiveNodes()\n",
    "ActiveFaceList = initActiveFaceList()\n",
    "    \n",
    "T, S = init_TS_nodes()\n",
    "Tf, Sf = init_TS_faces()\n",
    "\n",
    "I_active_faces = getActiveFaceIndices()\n",
    "print('active faces:', I_active_faces)\n"
   ]
  },
  {
   "cell_type": "markdown",
   "metadata": {},
   "source": [
    "For overseeing the algorithm one needs to track the active faces. \n",
    "\n",
    "Generalize the first step in the overall while cycle.\n",
    "\n",
    "\n",
    "\n",
    "If a new face is appended, then the corresponding approximate solution variables are actualized.\n",
    "\n",
    "Late face: a face that comes at top of the list, but whose node are already calculated, as the nodes are parts of neighbor faces that have been handled earlier. Such a face becomes obsolete, so the algorithm passes to the next face. Just for tracking, an obsolete face list is generated."
   ]
  },
  {
   "cell_type": "code",
   "execution_count": 36,
   "metadata": {},
   "outputs": [
    {
     "name": "stdout",
     "output_type": "stream",
     "text": [
      "len: list(I[K]) \t \t (id_A, id_B) -> id_C \n",
      " \n",
      " \n",
      "\n"
     ]
    }
   ],
   "source": [
    "ProcessedFaceList = []\n",
    "ObsoleteFaceList = []\n",
    "\n",
    "print('len: list(I[K]) \\t \\t (id_A, id_B) -> id_C \\n \\n \\n')\n",
    "j=0\n",
    "while len(ActiveFaceList)>0:\n",
    "    j=j+1\n",
    "    \n",
    "    # (0) update the index\n",
    "    I_active_faces = getActiveFaceIndices()\n",
    "\n",
    "    I = np.array(I_active_faces)\n",
    "    K = np.argsort(Tf[I], axis=0)\n",
    "\n",
    "    # print('(len)', len(I_active_faces),': (f)', list(I[K]))\n",
    "    \n",
    "    # (1) obtain id of next face\n",
    "    next_face_id = (I[K])[0]\n",
    "    fh = mesh.face_handle(next_face_id)\n",
    "    \n",
    "    # quick check whether the face is obsolete,\n",
    "    # which is a normal situation that should not be handled as an error\n",
    "    # but by moving on to the next face\n",
    "\n",
    "    counter = 0\n",
    "    for vh in mesh.fv(fh):\n",
    "        if vh in ActiveNodeList:\n",
    "            counter = counter + 1    \n",
    "    if counter == 3:\n",
    "        print('remove obsolete face:', fh.idx())\n",
    "        ObsoleteFaceList.append(fh)\n",
    "        ActiveFaceList.remove(fh)\n",
    "        continue\n",
    "            \n",
    "    # (2) calculate value of outgoing vertex\n",
    "    counter = 0\n",
    "    for vh in mesh.fv(fh):\n",
    "        if vh in ActiveNodeList:\n",
    "            # print(vh.idx(),'ingoing')\n",
    "            if counter == 0:\n",
    "                counter = counter + 1\n",
    "                id_A = vh.idx()\n",
    "                T_A = T[vh.idx()]                \n",
    "            elif counter == 1:\n",
    "                counter = counter + 1\n",
    "                id_B = vh.idx()\n",
    "                T_B = T[vh.idx()]\n",
    "            else:\n",
    "                print('ERR: too many ingoing nodes')\n",
    "                \n",
    "        else:\n",
    "            # print(vh.idx(),'outgoing')        \n",
    "            id_C = vh.idx()\n",
    "            vh_C = vh\n",
    "            \n",
    "    if counter == 2:\n",
    "        T_C = get_T_C_dummy(T_A, T_B)\n",
    "        T[id_C] = T_C\n",
    "    else:\n",
    "        print('ERR: missing inputs for calculating T_C')\n",
    "        # T[id_C] = j\n",
    "        \n",
    "    # T[id_C] = j\n",
    "    \n",
    "    # (3) handle the list of active faces\n",
    "    if (not vh_C in ActiveNodeList):\n",
    "        ActiveNodeList.append(vh_C) # also ! \n",
    "    else:\n",
    "        print('node already listed:', vh_C.idx())\n",
    "    \n",
    "    ActiveFaceList.remove(fh)\n",
    "    ProcessedFaceList.append(fh)\n",
    "\n",
    "    # (3b) agregate new faces to the list\n",
    "    f_list = []\n",
    "    print(len(I_active_faces),': ', list(I[K]),'; \\t (', id_A, ',', id_B, ') ->', id_C)    \n",
    "    for fvh in mesh.vf(vh_C):\n",
    "        f_list.append(fvh.idx())\n",
    "        # print('fv', fvh.idx())\n",
    "        if (not fvh in ActiveFaceList) and (not fvh in ProcessedFaceList):\n",
    "            counter = 0\n",
    "            for vh in mesh.fv(fvh):\n",
    "                if vh in ActiveNodeList:\n",
    "                    counter = counter + 1\n",
    "        \n",
    "            if counter == 2:\n",
    "                ActiveFaceList.append(fvh)\n",
    "                print('new face:', fvh.idx())\n",
    "                \n",
    "                for vh in mesh.fv(fvh):\n",
    "                    if vh in ActiveNodeList:\n",
    "                        if counter == 0:\n",
    "                            T_A = T[vh.idx()]\n",
    "                            counter = counter + 1\n",
    "                        elif counter == 1:\n",
    "                            T_B = T[vh.idx()]\n",
    "                    Tf[fvh.idx()] = (T_A + T_B)/2 + 3              \n",
    "            \n",
    "            elif counter == 3:\n",
    "                print('face duplicate registered:', fvh.idx())                \n",
    "        \n",
    "    print('\\t \\t f_list:', f_list, '\\n\\n\\n')\n",
    "\n",
    "\n",
    "        \n",
    "    if j == 7:\n",
    "        I_active_faces = getActiveFaceIndices()\n",
    "        I = np.array(I_active_faces)\n",
    "        K = np.argsort(Tf[I], axis=0)\n",
    "\n",
    "        Z = np.vstack([I[K],Tf[I[K]]]) # ,Sf[I[K]]])\n",
    "        print(Z.transpose())        \n"
   ]
  },
  {
   "cell_type": "markdown",
   "metadata": {},
   "source": [
    "The outgoing vertex now becomes a potential ingoing vertex. Therefore, all connected faces to that resolved outgoing node are checked, whether (1) they are available (not yet listed in the active or processed list), (2) there are two ingoing nodes (the newly agregated ingoing node and another one.).\n"
   ]
  },
  {
   "cell_type": "code",
   "execution_count": 35,
   "metadata": {},
   "outputs": [
    {
     "data": {
      "text/plain": [
       "array([ 3.       ,  0.5      , 55.3046875, 38.       ,  3.5      ,\n",
       "        0.       ,  3.       ,  3.       ,  0.       ,  3.       ,\n",
       "       20.5      ,  0.       , 37.28125  , 31.75     , 31.75     ,\n",
       "       23.       , 24.25     , 49.484375 , 41.125    , 49.484375 ,\n",
       "       44.34375  , 25.1875   ,  2.5      , 31.40625  , 24.1875   ,\n",
       "       37.28125  , 38.       , 33.       , 41.6875   , 20.5      ,\n",
       "       13.       , 13.       ,  8.       ,  3.       , 13.       ,\n",
       "        3.       , 23.       , 23.       , 23.       , 23.125    ,\n",
       "        1.5      ,  8.5      ,  4.5      ,  3.       ,  3.       ,\n",
       "       31.40625  , 38.296875 ,  6.5      , 11.75     , 18.625    ,\n",
       "       17.625    ,  9.75     ,  5.5      , 16.5      ,  9.75     ,\n",
       "        4.5      , 10.75     ,  5.5      , 17.625    , 10.75     ,\n",
       "        6.5      , 18.625    , 24.1875   , 30.375    , 41.6875   ,\n",
       "       33.       , 23.125    , 30.375    , 13.       , 16.5      ,\n",
       "       13.       , 13.       ,  8.5      ,  3.       ,  0.       ,\n",
       "        0.       ,  3.       , 51.3203125, 55.3046875, 44.34375  ])"
      ]
     },
     "execution_count": 35,
     "metadata": {},
     "output_type": "execute_result"
    }
   ],
   "source": []
  },
  {
   "cell_type": "markdown",
   "metadata": {},
   "source": [
    "## Checksum"
   ]
  },
  {
   "cell_type": "code",
   "execution_count": 34,
   "metadata": {},
   "outputs": [
    {
     "name": "stdout",
     "output_type": "stream",
     "text": [
      "active nodes (usorted): [0, 5, 10, 15, 20, 25, 26, 27, 28, 29, 30, 34, 38, 46, 42, 47, 48, 1, 6, 11, 21, 16, 49, 22, 23, 24, 43, 44, 45, 31, 35, 39, 17, 18, 19, 2, 7, 12, 40, 41, 36, 13, 14, 32, 37, 8, 3, 33, 9, 4]\n",
      "50 :  [ 0  1  2  3  4  5  6  7  8  9 10 11 12 13 14 15 16 17 18 19 20 21 22 23\n",
      " 24 25 26 27 28 29 30 31 32 33 34 35 36 37 38 39 40 41 42 43 44 45 46 47\n",
      " 48 49]\n",
      "check completeness: 40 40\n",
      "faces, processed: [ 0  3  4  5  6  8 10 11 12 13 15 18 22 24 25 30 31 33 35 37 40 41 45 47\n",
      " 49 51 53 55 57 58 59 63 66 67 70 73 74 75 77 79]\n",
      "faces, obsolete: [ 1  2  7  9 14 16 17 19 20 21 23 26 27 28 29 32 34 36 38 39 42 43 44 46\n",
      " 48 50 52 54 56 60 61 62 64 65 68 69 71 72 76 78]\n"
     ]
    }
   ],
   "source": [
    "\n",
    "I_active_nodes = getActiveNodeIndices()\n",
    "print('active nodes (usorted):', I_active_nodes)\n",
    "print(len(I_active_nodes),': ',np.sort(I_active_nodes))\n",
    "\n",
    "I_faces = getProcessedFaceIndices()\n",
    "I_faces_obsolete = getObsoleteFaceIndices()\n",
    "print('check completeness:', len(I_faces), len(I_faces_obsolete))\n",
    "print('faces, processed:', np.sort(I_faces))\n",
    "print('faces, obsolete:', np.sort(I_faces_obsolete))\n",
    "\n",
    "\n"
   ]
  },
  {
   "cell_type": "code",
   "execution_count": null,
   "metadata": {},
   "outputs": [],
   "source": [
    "\n"
   ]
  },
  {
   "cell_type": "code",
   "execution_count": null,
   "metadata": {},
   "outputs": [],
   "source": []
  },
  {
   "cell_type": "code",
   "execution_count": null,
   "metadata": {},
   "outputs": [],
   "source": []
  },
  {
   "cell_type": "code",
   "execution_count": null,
   "metadata": {},
   "outputs": [],
   "source": []
  },
  {
   "cell_type": "code",
   "execution_count": null,
   "metadata": {},
   "outputs": [],
   "source": []
  },
  {
   "cell_type": "code",
   "execution_count": null,
   "metadata": {},
   "outputs": [],
   "source": []
  },
  {
   "cell_type": "code",
   "execution_count": null,
   "metadata": {},
   "outputs": [],
   "source": []
  },
  {
   "cell_type": "code",
   "execution_count": null,
   "metadata": {},
   "outputs": [],
   "source": []
  },
  {
   "cell_type": "code",
   "execution_count": null,
   "metadata": {},
   "outputs": [],
   "source": []
  },
  {
   "cell_type": "code",
   "execution_count": null,
   "metadata": {},
   "outputs": [],
   "source": []
  },
  {
   "cell_type": "code",
   "execution_count": null,
   "metadata": {},
   "outputs": [],
   "source": []
  },
  {
   "cell_type": "code",
   "execution_count": null,
   "metadata": {},
   "outputs": [],
   "source": []
  },
  {
   "cell_type": "code",
   "execution_count": null,
   "metadata": {},
   "outputs": [],
   "source": []
  },
  {
   "cell_type": "code",
   "execution_count": null,
   "metadata": {},
   "outputs": [],
   "source": []
  },
  {
   "cell_type": "code",
   "execution_count": null,
   "metadata": {},
   "outputs": [],
   "source": []
  },
  {
   "cell_type": "code",
   "execution_count": null,
   "metadata": {},
   "outputs": [],
   "source": []
  },
  {
   "cell_type": "code",
   "execution_count": null,
   "metadata": {},
   "outputs": [],
   "source": []
  },
  {
   "cell_type": "code",
   "execution_count": null,
   "metadata": {},
   "outputs": [],
   "source": []
  },
  {
   "cell_type": "code",
   "execution_count": null,
   "metadata": {},
   "outputs": [],
   "source": []
  },
  {
   "cell_type": "code",
   "execution_count": null,
   "metadata": {},
   "outputs": [],
   "source": []
  },
  {
   "cell_type": "code",
   "execution_count": null,
   "metadata": {},
   "outputs": [],
   "source": []
  },
  {
   "cell_type": "code",
   "execution_count": null,
   "metadata": {},
   "outputs": [],
   "source": []
  },
  {
   "cell_type": "code",
   "execution_count": null,
   "metadata": {},
   "outputs": [],
   "source": []
  }
 ],
 "metadata": {
  "kernelspec": {
   "display_name": "Python 3",
   "language": "python",
   "name": "python3"
  },
  "language_info": {
   "codemirror_mode": {
    "name": "ipython",
    "version": 3
   },
   "file_extension": ".py",
   "mimetype": "text/x-python",
   "name": "python",
   "nbconvert_exporter": "python",
   "pygments_lexer": "ipython3",
   "version": "3.7.6"
  }
 },
 "nbformat": 4,
 "nbformat_minor": 4
}
