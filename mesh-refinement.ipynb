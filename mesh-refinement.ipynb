{
 "cells": [
  {
   "cell_type": "code",
   "execution_count": null,
   "metadata": {},
   "outputs": [],
   "source": []
  },
  {
   "cell_type": "code",
   "execution_count": 32,
   "metadata": {},
   "outputs": [],
   "source": [
    "import openmesh as om\n",
    "import matplotlib.pyplot as plt\n",
    "\n",
    "mesh = om.TriMesh()\n",
    "\n",
    "# vertices de malla\n",
    "vh0 = mesh.add_vertex([0, 0, 0])\n",
    "vh1 = mesh.add_vertex([0, 1, 0])\n",
    "vh2 = mesh.add_vertex([1, 1, 0])\n",
    "vh3 = mesh.add_vertex([1, 0, 0])\n",
    "vh4 = mesh.add_vertex([0.5, 0.5, 0])\n",
    "\n",
    "#Celdas\n",
    "fh0 = mesh.add_face(vh0, vh1, vh4)\n",
    "fh1 = mesh.add_face(vh1, vh2, vh4)\n",
    "fh2 = mesh.add_face(vh2, vh3, vh4)\n",
    "fh3 = mesh.add_face(vh3, vh0, vh4)\n",
    "\n",
    "om.write_mesh('refined_mesh.off', mesh)\n"
   ]
  },
  {
   "cell_type": "code",
   "execution_count": 33,
   "metadata": {},
   "outputs": [
    {
     "name": "stdout",
     "output_type": "stream",
     "text": [
      "Cara  0\n",
      "\t vh.idx 0\n",
      "\t vh.idx 1\n",
      "\t vh.idx 4\n",
      "\n",
      "\n",
      "\t fh.idx 3\n",
      "\t fh.idx 1\n",
      "\n",
      "\n",
      "\t Lados 1  boundary? False\n",
      "\t Lados 3  boundary? True\n",
      "\t Lados 4  boundary? False\n",
      "Cara  1\n",
      "\t vh.idx 1\n",
      "\t vh.idx 2\n",
      "\t vh.idx 4\n",
      "\n",
      "\n",
      "\t fh.idx 0\n",
      "\t fh.idx 2\n",
      "\n",
      "\n",
      "\t Lados 4  boundary? False\n",
      "\t Lados 5  boundary? True\n",
      "\t Lados 6  boundary? False\n",
      "Cara  2\n",
      "\t vh.idx 2\n",
      "\t vh.idx 3\n",
      "\t vh.idx 4\n",
      "\n",
      "\n",
      "\t fh.idx 1\n",
      "\t fh.idx 3\n",
      "\n",
      "\n",
      "\t Lados 6  boundary? False\n",
      "\t Lados 7  boundary? True\n",
      "\t Lados 2  boundary? False\n",
      "Cara  3\n",
      "\t vh.idx 3\n",
      "\t vh.idx 0\n",
      "\t vh.idx 4\n",
      "\n",
      "\n",
      "\t fh.idx 2\n",
      "\t fh.idx 0\n",
      "\n",
      "\n",
      "\t Lados 2  boundary? False\n",
      "\t Lados 0  boundary? True\n",
      "\t Lados 1  boundary? False\n"
     ]
    }
   ],
   "source": [
    "for fh in mesh.faces():\n",
    "    # IMPRIMIR LOS INDICES DE CADA CELDA(faces)\n",
    "    index = fh.idx() # devuelve el indice de la celda\n",
    "    print(\"Cara \", index)\n",
    "    # Recorrer los vertices de cada cara y mostrar sus indices\n",
    "    \n",
    "    # print('\\n')    \n",
    "    for vh in mesh.fv(fh):\n",
    "        idx = vh.idx() # devuelve indice del VERTICE\n",
    "        print(\"\\t vh.idx\", idx)\n",
    "        \n",
    "    print('\\n')\n",
    "    for fh in mesh.ff(fh):\n",
    "        nCell = fh.idx()\n",
    "        print(\"\\t fh.idx\", nCell)\n",
    "        \n",
    "    print('\\n')\n",
    "    for eh in mesh.fe(fh):\n",
    "        nEdge = eh.idx()\n",
    "        print('\\t Lados', nEdge, ' boundary?', mesh.is_boundary(eh))"
   ]
  },
  {
   "cell_type": "code",
   "execution_count": 34,
   "metadata": {},
   "outputs": [
    {
     "data": {
      "image/png": "[encoded data removed]",
      "text/plain": [
       "<Figure size 432x288 with 1 Axes>"
      ]
     },
     "metadata": {
      "needs_background": "light"
     },
     "output_type": "display_data"
    }
   ],
   "source": [
    "P = mesh.points()\n",
    "plt.plot(P[:,0], P[:,1], 'o', markersize=8)\n",
    "plt.show()\n"
   ]
  },
  {
   "cell_type": "code",
   "execution_count": 35,
   "metadata": {},
   "outputs": [
    {
     "name": "stdout",
     "output_type": "stream",
     "text": [
      "4\n",
      "12\n"
     ]
    }
   ],
   "source": [
    "def mesh_refinement(fht):\n",
    "    Xf = []\n",
    "    Yf = []\n",
    "    Vh = []\n",
    "    for vh in mesh.fv(fht):\n",
    "        p = mesh.point(vh) # devolver un arreglo de long 3\n",
    "        Xf.append(p[0])\n",
    "        Yf.append(p[1])\n",
    "        Vh.append(vh)       \n",
    "        \n",
    "    xbar = sum(Xf)/3\n",
    "    ybar = sum(Yf)/3\n",
    "    vhbar = mesh.add_vertex([xbar, ybar, 0])\n",
    "\n",
    "    # al parecer se debe seguir al orden\n",
    "    # 1. delete, 2. add, 3. garbage_collection\n",
    "    # sino algo no funciona, aún si no es cierto porque\n",
    "    \n",
    "    mesh.delete_face(fht)\n",
    "    \n",
    "    fhA = mesh.add_face(Vh[0],Vh[1],vhbar)\n",
    "    fhB = mesh.add_face(Vh[1],Vh[2],vhbar)\n",
    "    fhC = mesh.add_face(Vh[2],Vh[0],vhbar)\n",
    "    \n",
    "    mesh.garbage_collection()\n",
    "    \n",
    "    # conectar niveles fh <-> (fhA, fhB, fhC)\n",
    "    # varios niveles de la malla: mesh[k]\n",
    "    \n",
    "print(len(mesh.faces()))\n",
    "\n",
    "FH=[]\n",
    "for fh in mesh.faces():\n",
    "    FH.append(fh)\n",
    "FH=FH.copy()\n",
    "\n",
    "for fh in FH:\n",
    "    mesh_refinement(fh) \n",
    "    \n",
    "print(len(mesh.faces()))\n"
   ]
  },
  {
   "cell_type": "code",
   "execution_count": 36,
   "metadata": {},
   "outputs": [
    {
     "data": {
      "image/png": "[encoded data removed]",
      "text/plain": [
       "<Figure size 432x288 with 1 Axes>"
      ]
     },
     "metadata": {
      "needs_background": "light"
     },
     "output_type": "display_data"
    }
   ],
   "source": [
    "P = mesh.points()\n",
    "plt.plot(P[:,0], P[:,1], 'o', markersize=8)\n",
    "\n",
    "\n",
    "om.write_mesh('refined_mesh.off', mesh)"
   ]
  },
  {
   "cell_type": "code",
   "execution_count": 37,
   "metadata": {},
   "outputs": [
    {
     "ename": "QhullError",
     "evalue": "QH6154 Qhull precision error: Initial simplex is flat (facet 1 is coplanar with the interior point)\n\nWhile executing:  | qhull d Qz Qbb Q12 Qt Qc\nOptions selected for Qhull 2019.1.r 2019/06/21:\n  run-id 916323185  delaunay  Qz-infinity-point  Qbbound-last  Q12-allow-wide\n  Qtriangulate  Qcoplanar-keep  _pre-merge  _zero-centrum  Qinterior-keep\n  Pgood  _max-width  1  Error-roundoff 2e-15  _one-merge 1.8e-14\n  Visible-distance 1.2e-14  U-max-coplanar 1.2e-14  Width-outside 2.4e-14\n  _wide-facet 7.3e-14  _maxoutside 2.4e-14\n\nprecision problems (corrected unless 'Q0' or an error)\n      1 degenerate hyperplanes recomputed with gaussian elimination\n      1 nearly singular or axis-parallel hyperplanes\n      1 zero divisors during back substitute\n      7 zero divisors during gaussian elimination\n\nThe input to qhull appears to be less than 4 dimensional, or a\ncomputation has overflowed.\n\nQhull could not construct a clearly convex simplex from points:\n- p3(v5):     1     0     0  0.45\n- p9(v4):   0.5   0.5     0     1\n- p1(v3):     0     1     0  0.45\n- p2(v2):     1     1     0  0.91\n- p0(v1):     0     0     0     0\n\nThe center point is coplanar with a facet, or a vertex is coplanar\nwith a neighboring facet.  The maximum round off error for\ncomputing distances is 2e-15.  The center point, facets and distances\nto the center point are as follows:\n\ncenter point      0.5      0.5        0   0.5636\n\nfacet p9 p1 p2 p0 distance=    0\nfacet p3 p1 p2 p0 distance=    0\nfacet p3 p9 p2 p0 distance=    0\nfacet p3 p9 p1 p0 distance=    0\nfacet p3 p9 p1 p2 distance=    0\n\nThese points either have a maximum or minimum x-coordinate, or\nthey maximize the determinant for k coordinates.  Trial points\nare first selected from points that maximize a coordinate.\n\nThe min and max coordinates for each dimension are:\n  0:         0         1  difference=    1\n  1:         0         1  difference=    1\n  2:         0         0  difference=    0\n  3:         0         1  difference=    1\n\nIf the input should be full dimensional, you have several options that\nmay determine an initial simplex:\n  - use 'QJ'  to joggle the input and make it full dimensional\n  - use 'QbB' to scale the points to the unit cube\n  - use 'QR0' to randomly rotate the input for different maximum points\n  - use 'Qs'  to search all points for the initial simplex\n  - use 'En'  to specify a maximum roundoff error less than 2e-15.\n  - trace execution with 'T3' to see the determinant for each point.\n\nIf the input is lower dimensional:\n  - use 'QJ' to joggle the input and make it full dimensional\n  - use 'Qbk:0Bk:0' to delete coordinate k from the input.  You should\n    pick the coordinate with the least range.  The hull will have the\n    correct topology.\n  - determine the flat containing the points, rotate the points\n    into a coordinate plane, and delete the other coordinates.\n  - add one or more points to make the input full dimensional.\n",
     "output_type": "error",
     "traceback": [
      "\u001b[0;31m---------------------------------------------------------------------------\u001b[0m",
      "\u001b[0;31mQhullError\u001b[0m                                Traceback (most recent call last)",
      "\u001b[0;32m<ipython-input-37-e05341a6b840>\u001b[0m in \u001b[0;36m<module>\u001b[0;34m\u001b[0m\n\u001b[1;32m      1\u001b[0m \u001b[0;32mfrom\u001b[0m \u001b[0mscipy\u001b[0m\u001b[0;34m.\u001b[0m\u001b[0mspatial\u001b[0m \u001b[0;32mimport\u001b[0m \u001b[0mDelaunay\u001b[0m\u001b[0;34m\u001b[0m\u001b[0;34m\u001b[0m\u001b[0m\n\u001b[0;32m----> 2\u001b[0;31m \u001b[0mT\u001b[0m \u001b[0;34m=\u001b[0m \u001b[0mDelaunay\u001b[0m\u001b[0;34m(\u001b[0m\u001b[0mP\u001b[0m\u001b[0;34m)\u001b[0m\u001b[0;34m\u001b[0m\u001b[0;34m\u001b[0m\u001b[0m\n\u001b[0m\u001b[1;32m      3\u001b[0m \u001b[0mplt\u001b[0m\u001b[0;34m.\u001b[0m\u001b[0mtriplot\u001b[0m\u001b[0;34m(\u001b[0m\u001b[0mP\u001b[0m\u001b[0;34m[\u001b[0m\u001b[0;34m:\u001b[0m\u001b[0;34m,\u001b[0m\u001b[0;36m0\u001b[0m\u001b[0;34m]\u001b[0m\u001b[0;34m,\u001b[0m\u001b[0mP\u001b[0m\u001b[0;34m[\u001b[0m\u001b[0;34m:\u001b[0m\u001b[0;34m,\u001b[0m\u001b[0;36m1\u001b[0m\u001b[0;34m]\u001b[0m\u001b[0;34m,\u001b[0m\u001b[0mT\u001b[0m\u001b[0;34m.\u001b[0m\u001b[0msimplices\u001b[0m\u001b[0;34m)\u001b[0m\u001b[0;34m\u001b[0m\u001b[0;34m\u001b[0m\u001b[0m\n",
      "\u001b[0;32mqhull.pyx\u001b[0m in \u001b[0;36mscipy.spatial.qhull.Delaunay.__init__\u001b[0;34m()\u001b[0m\n",
      "\u001b[0;32mqhull.pyx\u001b[0m in \u001b[0;36mscipy.spatial.qhull._Qhull.__init__\u001b[0;34m()\u001b[0m\n",
      "\u001b[0;31mQhullError\u001b[0m: QH6154 Qhull precision error: Initial simplex is flat (facet 1 is coplanar with the interior point)\n\nWhile executing:  | qhull d Qz Qbb Q12 Qt Qc\nOptions selected for Qhull 2019.1.r 2019/06/21:\n  run-id 916323185  delaunay  Qz-infinity-point  Qbbound-last  Q12-allow-wide\n  Qtriangulate  Qcoplanar-keep  _pre-merge  _zero-centrum  Qinterior-keep\n  Pgood  _max-width  1  Error-roundoff 2e-15  _one-merge 1.8e-14\n  Visible-distance 1.2e-14  U-max-coplanar 1.2e-14  Width-outside 2.4e-14\n  _wide-facet 7.3e-14  _maxoutside 2.4e-14\n\nprecision problems (corrected unless 'Q0' or an error)\n      1 degenerate hyperplanes recomputed with gaussian elimination\n      1 nearly singular or axis-parallel hyperplanes\n      1 zero divisors during back substitute\n      7 zero divisors during gaussian elimination\n\nThe input to qhull appears to be less than 4 dimensional, or a\ncomputation has overflowed.\n\nQhull could not construct a clearly convex simplex from points:\n- p3(v5):     1     0     0  0.45\n- p9(v4):   0.5   0.5     0     1\n- p1(v3):     0     1     0  0.45\n- p2(v2):     1     1     0  0.91\n- p0(v1):     0     0     0     0\n\nThe center point is coplanar with a facet, or a vertex is coplanar\nwith a neighboring facet.  The maximum round off error for\ncomputing distances is 2e-15.  The center point, facets and distances\nto the center point are as follows:\n\ncenter point      0.5      0.5        0   0.5636\n\nfacet p9 p1 p2 p0 distance=    0\nfacet p3 p1 p2 p0 distance=    0\nfacet p3 p9 p2 p0 distance=    0\nfacet p3 p9 p1 p0 distance=    0\nfacet p3 p9 p1 p2 distance=    0\n\nThese points either have a maximum or minimum x-coordinate, or\nthey maximize the determinant for k coordinates.  Trial points\nare first selected from points that maximize a coordinate.\n\nThe min and max coordinates for each dimension are:\n  0:         0         1  difference=    1\n  1:         0         1  difference=    1\n  2:         0         0  difference=    0\n  3:         0         1  difference=    1\n\nIf the input should be full dimensional, you have several options that\nmay determine an initial simplex:\n  - use 'QJ'  to joggle the input and make it full dimensional\n  - use 'QbB' to scale the points to the unit cube\n  - use 'QR0' to randomly rotate the input for different maximum points\n  - use 'Qs'  to search all points for the initial simplex\n  - use 'En'  to specify a maximum roundoff error less than 2e-15.\n  - trace execution with 'T3' to see the determinant for each point.\n\nIf the input is lower dimensional:\n  - use 'QJ' to joggle the input and make it full dimensional\n  - use 'Qbk:0Bk:0' to delete coordinate k from the input.  You should\n    pick the coordinate with the least range.  The hull will have the\n    correct topology.\n  - determine the flat containing the points, rotate the points\n    into a coordinate plane, and delete the other coordinates.\n  - add one or more points to make the input full dimensional.\n"
     ]
    }
   ],
   "source": [
    "from scipy.spatial import Delaunay\n",
    "T = Delaunay(P)\n",
    "plt.triplot(P[:,0],P[:,1],T.simplices)\n"
   ]
  },
  {
   "cell_type": "code",
   "execution_count": 38,
   "metadata": {},
   "outputs": [
    {
     "data": {
      "text/plain": [
       "array([[0.        , 0.        , 0.        ],\n",
       "       [0.        , 1.        , 0.        ],\n",
       "       [1.        , 1.        , 0.        ],\n",
       "       [1.        , 0.        , 0.        ],\n",
       "       [0.5       , 0.5       , 0.        ],\n",
       "       [0.16666667, 0.5       , 0.        ],\n",
       "       [0.5       , 0.83333333, 0.        ],\n",
       "       [0.83333333, 0.5       , 0.        ],\n",
       "       [0.5       , 0.16666667, 0.        ]])"
      ]
     },
     "execution_count": 38,
     "metadata": {},
     "output_type": "execute_result"
    }
   ],
   "source": [
    "P"
   ]
  },
  {
   "cell_type": "code",
   "execution_count": null,
   "metadata": {},
   "outputs": [],
   "source": []
  },
  {
   "cell_type": "code",
   "execution_count": null,
   "metadata": {},
   "outputs": [],
   "source": []
  }
 ],
 "metadata": {
  "kernelspec": {
   "display_name": "Python 3",
   "language": "python",
   "name": "python3"
  },
  "language_info": {
   "codemirror_mode": {
    "name": "ipython",
    "version": 3
   },
   "file_extension": ".py",
   "mimetype": "text/x-python",
   "name": "python",
   "nbconvert_exporter": "python",
   "pygments_lexer": "ipython3",
   "version": "3.7.6"
  }
 },
 "nbformat": 4,
 "nbformat_minor": 4
}
